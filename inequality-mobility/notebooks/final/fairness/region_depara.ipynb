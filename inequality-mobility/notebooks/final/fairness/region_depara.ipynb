{
 "cells": [
  {
   "cell_type": "code",
   "execution_count": 1,
   "id": "eaac4894-c8d4-4393-bbaf-a03dbe439ec0",
   "metadata": {
    "execution": {
     "iopub.execute_input": "2025-09-14T00:02:36.290027Z",
     "iopub.status.busy": "2025-09-14T00:02:36.289790Z",
     "iopub.status.idle": "2025-09-14T00:02:37.877451Z",
     "shell.execute_reply": "2025-09-14T00:02:37.876702Z",
     "shell.execute_reply.started": "2025-09-14T00:02:36.289969Z"
    },
    "tags": []
   },
   "outputs": [],
   "source": [
    "import numpy as np\n",
    "import pandas as pd\n",
    "import geopandas as gpd\n",
    "import vaex\n",
    "\n",
    "from sklearn.impute import KNNImputer"
   ]
  },
  {
   "cell_type": "code",
   "execution_count": 11,
   "id": "119f2453-986f-40e9-bbe6-ac004c0133c6",
   "metadata": {
    "execution": {
     "iopub.execute_input": "2025-09-14T00:07:40.731836Z",
     "iopub.status.busy": "2025-09-14T00:07:40.731267Z",
     "iopub.status.idle": "2025-09-14T00:07:40.736655Z",
     "shell.execute_reply": "2025-09-14T00:07:40.735893Z",
     "shell.execute_reply.started": "2025-09-14T00:07:40.731811Z"
    },
    "tags": []
   },
   "outputs": [],
   "source": [
    "epsg = 31983\n",
    "path = '/home/yoshraf/projects/master-analysis-inequality-mobility/inequality-mobility/data/01_raw/external/'\n",
    "path2 = '/home/yoshraf/projects/master-analysis-inequality-mobility/inequality-mobility/notebooks/final/mode-choice/data/'"
   ]
  },
  {
   "cell_type": "code",
   "execution_count": 3,
   "id": "8f85b015-0609-40db-9039-7eb6aa3f3912",
   "metadata": {
    "execution": {
     "iopub.execute_input": "2025-09-14T00:02:37.903659Z",
     "iopub.status.busy": "2025-09-14T00:02:37.903513Z",
     "iopub.status.idle": "2025-09-14T00:02:37.909526Z",
     "shell.execute_reply": "2025-09-14T00:02:37.908587Z",
     "shell.execute_reply.started": "2025-09-14T00:02:37.903642Z"
    },
    "tags": []
   },
   "outputs": [],
   "source": [
    "def agg_type(gdf):\n",
    "    '''\n",
    "    This function aggregates the unit (taxpayer) to block level.\n",
    "    \n",
    "    Taxpayer -> Building Unit (Stret + Number) -> Block\n",
    "    '''\n",
    "    \n",
    "    # Create the id for building unit\n",
    "    gdf['unit'] = gdf['NOME DE LOGRADOURO DO IMOVEL'] + gdf['NUMERO DO IMOVEL'].astype(str)\n",
    "    \n",
    "    # How many rows\n",
    "    print(gdf.shape)\n",
    "    \n",
    "    # Agg by the unit\n",
    "    df_aux_b = gdf.groupby(\n",
    "        ['sq', 'unit'],\n",
    "        progress=True\n",
    "                          ).agg(\n",
    "        {\n",
    "             'VALOR DO M2 DE CONSTRUCAO': 'mean',\n",
    "             'VALOR DO M2 DO TERRENO': 'mean',\n",
    "        }\n",
    "    )\n",
    "    # Agg by block\n",
    "    print(df_aux_b.shape)\n",
    "    df_aux_b2 = df_aux_b.groupby(['sq']).agg(\n",
    "        {\n",
    "         'VALOR DO M2 DE CONSTRUCAO': 'mean',\n",
    "         'VALOR DO M2 DO TERRENO': 'mean',\n",
    "        }\n",
    "    )\n",
    "    print(df_aux_b2.shape)\n",
    "    df_agg2 = df_aux_b2.to_pandas_df()\n",
    "    return df_agg2"
   ]
  },
  {
   "cell_type": "code",
   "execution_count": 4,
   "id": "7eb20a4e-02be-4176-a849-b784e483a80c",
   "metadata": {
    "execution": {
     "iopub.execute_input": "2025-09-14T00:02:37.910936Z",
     "iopub.status.busy": "2025-09-14T00:02:37.910494Z",
     "iopub.status.idle": "2025-09-14T00:02:39.296610Z",
     "shell.execute_reply": "2025-09-14T00:02:39.295724Z",
     "shell.execute_reply.started": "2025-09-14T00:02:37.910904Z"
    },
    "tags": []
   },
   "outputs": [],
   "source": [
    "# Read all the IPTU data and concatenate into a unique dataframe\n",
    "dfs = []\n",
    "date_ini, date_end  = 1995, 2022\n",
    "for year in range(date_ini, date_end + 1):\n",
    "    dfs.append(vaex.open(f'{path}IPTU-HDF5/IPTU_{year}/IPTU_{year}.hdf5'))\n",
    "df_iptu = vaex.concat(dfs)\n",
    "\n",
    "# Create the id for the block 'sq'\n",
    "df_iptu['setor'] = df_iptu['NUMERO DO CONTRIBUINTE'].str.slice(0,3)\n",
    "df_iptu['quadra'] = df_iptu['NUMERO DO CONTRIBUINTE'].str.slice(3,6)\n",
    "df_iptu['sq'] = df_iptu['setor'] + df_iptu['quadra']\n",
    "# Standlize the string format\n",
    "df_iptu['TIPO DE USO DO IMOVEL'] = df_iptu['TIPO DE USO DO IMOVEL'].str.capitalize()"
   ]
  },
  {
   "cell_type": "code",
   "execution_count": 5,
   "id": "57999bd2-fcf8-486b-97c5-f33c96614f18",
   "metadata": {
    "execution": {
     "iopub.execute_input": "2025-09-14T00:02:42.987243Z",
     "iopub.status.busy": "2025-09-14T00:02:42.986342Z",
     "iopub.status.idle": "2025-09-14T00:03:24.061090Z",
     "shell.execute_reply": "2025-09-14T00:03:24.059171Z",
     "shell.execute_reply.started": "2025-09-14T00:02:42.987182Z"
    },
    "tags": []
   },
   "outputs": [
    {
     "name": "stdout",
     "output_type": "stream",
     "text": [
      "(82322059, 33)\n",
      "groupby [########################################] 100.00% elapsed time  :    13.93s =  0.2m =  0.0h \n",
      "groupby [########################################] 100.00% elapsed time  :    26.73s =  0.4m =  0.0h\n",
      " (4502687, 4)\n",
      "(46141, 3)\n"
     ]
    }
   ],
   "source": [
    "df_results = agg_type(df_iptu)"
   ]
  },
  {
   "cell_type": "code",
   "execution_count": 6,
   "id": "f8f84c9f-9f33-494a-bbe6-d8e8771944da",
   "metadata": {
    "execution": {
     "iopub.execute_input": "2025-09-14T00:03:25.030832Z",
     "iopub.status.busy": "2025-09-14T00:03:25.028994Z",
     "iopub.status.idle": "2025-09-14T00:03:33.470876Z",
     "shell.execute_reply": "2025-09-14T00:03:33.469795Z",
     "shell.execute_reply.started": "2025-09-14T00:03:25.030743Z"
    },
    "tags": []
   },
   "outputs": [],
   "source": [
    "gdf_quadras = gpd.read_file(f'{path}quadras.gpkg')"
   ]
  },
  {
   "cell_type": "code",
   "execution_count": 7,
   "id": "af2f00e8-e8c5-4b07-a8f7-06407db61bfe",
   "metadata": {
    "execution": {
     "iopub.execute_input": "2025-09-14T00:03:34.533868Z",
     "iopub.status.busy": "2025-09-14T00:03:34.533566Z",
     "iopub.status.idle": "2025-09-14T00:03:34.608630Z",
     "shell.execute_reply": "2025-09-14T00:03:34.607892Z",
     "shell.execute_reply.started": "2025-09-14T00:03:34.533846Z"
    },
    "tags": []
   },
   "outputs": [],
   "source": [
    "df_results = pd.merge(\n",
    "    gdf_quadras[['sq', 'geometry']],\n",
    "    df_results,\n",
    "    on=['sq']\n",
    ")\n",
    "df_results['LOG VALOR DO M2 DO TERRENO'] = np.log(df_results['VALOR DO M2 DO TERRENO'])"
   ]
  },
  {
   "cell_type": "code",
   "execution_count": 8,
   "id": "a5b37408-832e-40fa-80de-4d2dacbe17df",
   "metadata": {
    "execution": {
     "iopub.execute_input": "2025-09-14T00:03:37.119579Z",
     "iopub.status.busy": "2025-09-14T00:03:37.119387Z",
     "iopub.status.idle": "2025-09-14T00:03:37.123415Z",
     "shell.execute_reply": "2025-09-14T00:03:37.122652Z",
     "shell.execute_reply.started": "2025-09-14T00:03:37.119562Z"
    },
    "tags": []
   },
   "outputs": [],
   "source": [
    "log_col = 'LOG VALOR DO M2 DO TERRENO'\n",
    "col = 'VALOR DO M2 DO TERRENO'"
   ]
  },
  {
   "cell_type": "code",
   "execution_count": 9,
   "id": "48cebefa-623f-462a-ba96-e57244e551c3",
   "metadata": {
    "execution": {
     "iopub.execute_input": "2025-09-14T00:03:43.061702Z",
     "iopub.status.busy": "2025-09-14T00:03:43.061367Z",
     "iopub.status.idle": "2025-09-14T00:03:43.091238Z",
     "shell.execute_reply": "2025-09-14T00:03:43.090502Z",
     "shell.execute_reply.started": "2025-09-14T00:03:43.061683Z"
    },
    "tags": []
   },
   "outputs": [
    {
     "name": "stderr",
     "output_type": "stream",
     "text": [
      "/home/yoshraf/projects/master-analysis-inequality-mobility/venv/lib/python3.8/site-packages/pandas/core/nanops.py:1723: DeprecationWarning: the `interpolation=` argument to percentile was renamed to `method=`, which has additional options.\n",
      "Users of the modes 'nearest', 'lower', 'higher', or 'midpoint' are encouraged to review the method they used. (Deprecated NumPy 1.22)\n",
      "  return np.percentile(values, q, axis=1, interpolation=interpolation)\n"
     ]
    }
   ],
   "source": [
    "cutoff = .175\n",
    "q1 = df_results[log_col].quantile(1 - cutoff)\n",
    "\n",
    "df_results['groups'] = df_results[log_col].map(lambda x: 1 if x <= q1 else 2 ).astype('category')"
   ]
  },
  {
   "cell_type": "code",
   "execution_count": 12,
   "id": "5ae192aa-0e4c-4312-b56c-ab8d32c3713b",
   "metadata": {
    "execution": {
     "iopub.execute_input": "2025-09-14T00:08:02.553781Z",
     "iopub.status.busy": "2025-09-14T00:08:02.553553Z",
     "iopub.status.idle": "2025-09-14T00:08:09.589357Z",
     "shell.execute_reply": "2025-09-14T00:08:09.588505Z",
     "shell.execute_reply.started": "2025-09-14T00:08:02.553764Z"
    },
    "tags": []
   },
   "outputs": [],
   "source": [
    "df_quadras_results = gpd.read_file(f\"{path2}quadras_classificadas.shp\")\n",
    "df_quadras_results['ds_groups'] = df_quadras_results['groups'].map({'1': 'Peripheral Group', '2': 'Central Group'})"
   ]
  },
  {
   "cell_type": "code",
   "execution_count": 13,
   "id": "85f76bef-e186-41b6-abb1-e0a11f6dadfe",
   "metadata": {
    "execution": {
     "iopub.execute_input": "2025-09-14T00:08:11.057534Z",
     "iopub.status.busy": "2025-09-14T00:08:11.057057Z",
     "iopub.status.idle": "2025-09-14T00:08:11.183418Z",
     "shell.execute_reply": "2025-09-14T00:08:11.182724Z",
     "shell.execute_reply.started": "2025-09-14T00:08:11.057514Z"
    },
    "tags": []
   },
   "outputs": [
    {
     "name": "stdout",
     "output_type": "stream",
     "text": [
      "2025-09-13 21:08:11,059 - kedro.io.data_catalog - INFO - Loading data from `df_sample` (ParquetDataSet)...\n"
     ]
    }
   ],
   "source": [
    "X_sample = catalog.load('df_sample').reset_index()[['identifica_pessoa', 'coordenada_x_do_domicilio', 'coordenada_y_do_domicilio']]"
   ]
  },
  {
   "cell_type": "code",
   "execution_count": 14,
   "id": "8b8e0acf-c22c-4141-8e02-9bd988f2364d",
   "metadata": {
    "execution": {
     "iopub.execute_input": "2025-09-14T00:08:14.543078Z",
     "iopub.status.busy": "2025-09-14T00:08:14.542626Z",
     "iopub.status.idle": "2025-09-14T00:08:14.715556Z",
     "shell.execute_reply": "2025-09-14T00:08:14.715017Z",
     "shell.execute_reply.started": "2025-09-14T00:08:14.543056Z"
    },
    "tags": []
   },
   "outputs": [
    {
     "name": "stderr",
     "output_type": "stream",
     "text": [
      "/home/yoshraf/projects/master-analysis-inequality-mobility/venv/lib/python3.8/site-packages/IPython/core/interactiveshell.py:3361: FutureWarning: The `op` parameter is deprecated and will be removed in a future release. Please use the `predicate` parameter instead.\n",
      "  if (await self.run_code(code, result,  async_=asy)):\n"
     ]
    }
   ],
   "source": [
    "gdf_sample = gpd.GeoDataFrame(X_sample, \n",
    "                              geometry=gpd.points_from_xy(\n",
    "                                  X_sample['coordenada_x_do_domicilio'],\n",
    "                                  X_sample['coordenada_y_do_domicilio']),\n",
    "                              crs=epsg)\n",
    "gdf_aux = gpd.sjoin(gdf_sample, df_quadras_results[['sq', 'geometry', 'groups']], how=\"left\", op='intersects')\n",
    "gdf_aux['x'] = gdf_aux.geometry.x\n",
    "gdf_aux['y'] = gdf_aux.geometry.y"
   ]
  },
  {
   "cell_type": "code",
   "execution_count": 16,
   "id": "e1bed3ff-63e7-41a0-b78b-545f402e0f8d",
   "metadata": {
    "execution": {
     "iopub.execute_input": "2025-09-14T00:08:42.832475Z",
     "iopub.status.busy": "2025-09-14T00:08:42.831699Z",
     "iopub.status.idle": "2025-09-14T00:08:42.841181Z",
     "shell.execute_reply": "2025-09-14T00:08:42.840427Z",
     "shell.execute_reply.started": "2025-09-14T00:08:42.832449Z"
    },
    "tags": []
   },
   "outputs": [],
   "source": [
    "imputer = KNNImputer(n_neighbors=1)\n",
    "gdf_aux.groups  = pd.DataFrame(imputer.fit_transform(gdf_aux[['x', 'y', 'groups']]), columns=['x', 'y', 'groups'])['groups']"
   ]
  },
  {
   "cell_type": "code",
   "execution_count": 17,
   "id": "775c957d-ce73-4fab-b746-559112242751",
   "metadata": {
    "execution": {
     "iopub.execute_input": "2025-09-14T00:08:50.498500Z",
     "iopub.status.busy": "2025-09-14T00:08:50.497512Z",
     "iopub.status.idle": "2025-09-14T00:08:50.517755Z",
     "shell.execute_reply": "2025-09-14T00:08:50.516500Z",
     "shell.execute_reply.started": "2025-09-14T00:08:50.498476Z"
    }
   },
   "outputs": [
    {
     "data": {
      "text/plain": [
       "1.0    0.614\n",
       "2.0    0.386\n",
       "Name: groups, dtype: float64"
      ]
     },
     "execution_count": 17,
     "metadata": {},
     "output_type": "execute_result"
    }
   ],
   "source": [
    "gdf_aux[['identifica_pessoa', 'groups']].groups.value_counts(normalize=True)"
   ]
  },
  {
   "cell_type": "code",
   "execution_count": 18,
   "id": "934b44be-cd1d-4f73-b8c1-fbb38c87fbe0",
   "metadata": {
    "execution": {
     "iopub.execute_input": "2025-09-14T00:09:04.968975Z",
     "iopub.status.busy": "2025-09-14T00:09:04.968059Z",
     "iopub.status.idle": "2025-09-14T00:09:05.006847Z",
     "shell.execute_reply": "2025-09-14T00:09:05.006207Z",
     "shell.execute_reply.started": "2025-09-14T00:09:04.968947Z"
    },
    "tags": []
   },
   "outputs": [],
   "source": [
    "gdf_aux[['identifica_pessoa', 'groups']].to_parquet('data/df_region_shap.parquet')"
   ]
  }
 ],
 "metadata": {
  "kernelspec": {
   "display_name": "InequalityMobility",
   "language": "python",
   "name": "python3"
  },
  "language_info": {
   "codemirror_mode": {
    "name": "ipython",
    "version": 3
   },
   "file_extension": ".py",
   "mimetype": "text/x-python",
   "name": "python",
   "nbconvert_exporter": "python",
   "pygments_lexer": "ipython3",
   "version": "3.8.10"
  }
 },
 "nbformat": 4,
 "nbformat_minor": 5
}
