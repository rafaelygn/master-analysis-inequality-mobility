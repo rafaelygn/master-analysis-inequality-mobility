{
 "cells": [
  {
   "cell_type": "code",
   "execution_count": 2,
   "id": "ff24b39e-9e73-4837-b582-a837d2641756",
   "metadata": {
    "execution": {
     "iopub.execute_input": "2025-09-14T00:27:49.220954Z",
     "iopub.status.busy": "2025-09-14T00:27:49.220383Z",
     "iopub.status.idle": "2025-09-14T00:27:50.765788Z",
     "shell.execute_reply": "2025-09-14T00:27:50.765101Z",
     "shell.execute_reply.started": "2025-09-14T00:27:49.220935Z"
    },
    "tags": []
   },
   "outputs": [],
   "source": [
    "import pandas as pd\n",
    "import shap\n",
    "\n",
    "from matplotlib import pyplot as plt\n",
    "from sklearn.ensemble import RandomForestClassifier"
   ]
  },
  {
   "cell_type": "code",
   "execution_count": 4,
   "id": "94bcd734-83ff-417d-869e-d495f67ea8ee",
   "metadata": {
    "execution": {
     "iopub.execute_input": "2025-09-14T00:28:46.665139Z",
     "iopub.status.busy": "2025-09-14T00:28:46.664538Z",
     "iopub.status.idle": "2025-09-14T00:28:46.717339Z",
     "shell.execute_reply": "2025-09-14T00:28:46.716097Z",
     "shell.execute_reply.started": "2025-09-14T00:28:46.665117Z"
    },
    "tags": []
   },
   "outputs": [
    {
     "data": {
      "text/html": [
       "<div>\n",
       "<style scoped>\n",
       "    .dataframe tbody tr th:only-of-type {\n",
       "        vertical-align: middle;\n",
       "    }\n",
       "\n",
       "    .dataframe tbody tr th {\n",
       "        vertical-align: top;\n",
       "    }\n",
       "\n",
       "    .dataframe thead th {\n",
       "        text-align: right;\n",
       "    }\n",
       "</style>\n",
       "<table border=\"1\" class=\"dataframe\">\n",
       "  <thead>\n",
       "    <tr style=\"text-align: right;\">\n",
       "      <th></th>\n",
       "      <th>PassengerId</th>\n",
       "      <th>Survived</th>\n",
       "      <th>Pclass</th>\n",
       "      <th>Name</th>\n",
       "      <th>Sex</th>\n",
       "      <th>Age</th>\n",
       "      <th>SibSp</th>\n",
       "      <th>Parch</th>\n",
       "      <th>Ticket</th>\n",
       "      <th>Fare</th>\n",
       "      <th>Cabin</th>\n",
       "      <th>Embarked</th>\n",
       "    </tr>\n",
       "  </thead>\n",
       "  <tbody>\n",
       "    <tr>\n",
       "      <th>0</th>\n",
       "      <td>1</td>\n",
       "      <td>0</td>\n",
       "      <td>3</td>\n",
       "      <td>Braund, Mr. Owen Harris</td>\n",
       "      <td>male</td>\n",
       "      <td>22.0</td>\n",
       "      <td>1</td>\n",
       "      <td>0</td>\n",
       "      <td>A/5 21171</td>\n",
       "      <td>7.2500</td>\n",
       "      <td>NaN</td>\n",
       "      <td>S</td>\n",
       "    </tr>\n",
       "    <tr>\n",
       "      <th>1</th>\n",
       "      <td>2</td>\n",
       "      <td>1</td>\n",
       "      <td>1</td>\n",
       "      <td>Cumings, Mrs. John Bradley (Florence Briggs Th...</td>\n",
       "      <td>female</td>\n",
       "      <td>38.0</td>\n",
       "      <td>1</td>\n",
       "      <td>0</td>\n",
       "      <td>PC 17599</td>\n",
       "      <td>71.2833</td>\n",
       "      <td>C85</td>\n",
       "      <td>C</td>\n",
       "    </tr>\n",
       "    <tr>\n",
       "      <th>2</th>\n",
       "      <td>3</td>\n",
       "      <td>1</td>\n",
       "      <td>3</td>\n",
       "      <td>Heikkinen, Miss. Laina</td>\n",
       "      <td>female</td>\n",
       "      <td>26.0</td>\n",
       "      <td>0</td>\n",
       "      <td>0</td>\n",
       "      <td>STON/O2. 3101282</td>\n",
       "      <td>7.9250</td>\n",
       "      <td>NaN</td>\n",
       "      <td>S</td>\n",
       "    </tr>\n",
       "    <tr>\n",
       "      <th>3</th>\n",
       "      <td>4</td>\n",
       "      <td>1</td>\n",
       "      <td>1</td>\n",
       "      <td>Futrelle, Mrs. Jacques Heath (Lily May Peel)</td>\n",
       "      <td>female</td>\n",
       "      <td>35.0</td>\n",
       "      <td>1</td>\n",
       "      <td>0</td>\n",
       "      <td>113803</td>\n",
       "      <td>53.1000</td>\n",
       "      <td>C123</td>\n",
       "      <td>S</td>\n",
       "    </tr>\n",
       "    <tr>\n",
       "      <th>4</th>\n",
       "      <td>5</td>\n",
       "      <td>0</td>\n",
       "      <td>3</td>\n",
       "      <td>Allen, Mr. William Henry</td>\n",
       "      <td>male</td>\n",
       "      <td>35.0</td>\n",
       "      <td>0</td>\n",
       "      <td>0</td>\n",
       "      <td>373450</td>\n",
       "      <td>8.0500</td>\n",
       "      <td>NaN</td>\n",
       "      <td>S</td>\n",
       "    </tr>\n",
       "  </tbody>\n",
       "</table>\n",
       "</div>"
      ],
      "text/plain": [
       "   PassengerId  Survived  Pclass  \\\n",
       "0            1         0       3   \n",
       "1            2         1       1   \n",
       "2            3         1       3   \n",
       "3            4         1       1   \n",
       "4            5         0       3   \n",
       "\n",
       "                                                Name     Sex   Age  SibSp  \\\n",
       "0                            Braund, Mr. Owen Harris    male  22.0      1   \n",
       "1  Cumings, Mrs. John Bradley (Florence Briggs Th...  female  38.0      1   \n",
       "2                             Heikkinen, Miss. Laina  female  26.0      0   \n",
       "3       Futrelle, Mrs. Jacques Heath (Lily May Peel)  female  35.0      1   \n",
       "4                           Allen, Mr. William Henry    male  35.0      0   \n",
       "\n",
       "   Parch            Ticket     Fare Cabin Embarked  \n",
       "0      0         A/5 21171   7.2500   NaN        S  \n",
       "1      0          PC 17599  71.2833   C85        C  \n",
       "2      0  STON/O2. 3101282   7.9250   NaN        S  \n",
       "3      0            113803  53.1000  C123        S  \n",
       "4      0            373450   8.0500   NaN        S  "
      ]
     },
     "execution_count": 4,
     "metadata": {},
     "output_type": "execute_result"
    }
   ],
   "source": [
    "dataset = pd.read_csv('data/train.csv')\n",
    "\n",
    "features = ['Sex', 'Age', 'Fare']\n",
    "label = ['Survived']\n",
    "\n",
    "dataset.head()"
   ]
  },
  {
   "cell_type": "code",
   "execution_count": 5,
   "id": "c2b46c28-519e-4ca3-b527-0c64fd534fa4",
   "metadata": {
    "execution": {
     "iopub.execute_input": "2025-09-14T00:28:50.580372Z",
     "iopub.status.busy": "2025-09-14T00:28:50.580018Z",
     "iopub.status.idle": "2025-09-14T00:28:50.726602Z",
     "shell.execute_reply": "2025-09-14T00:28:50.725759Z",
     "shell.execute_reply.started": "2025-09-14T00:28:50.580351Z"
    },
    "tags": []
   },
   "outputs": [
    {
     "data": {
      "text/html": [
       "<style>#sk-container-id-1 {color: black;background-color: white;}#sk-container-id-1 pre{padding: 0;}#sk-container-id-1 div.sk-toggleable {background-color: white;}#sk-container-id-1 label.sk-toggleable__label {cursor: pointer;display: block;width: 100%;margin-bottom: 0;padding: 0.3em;box-sizing: border-box;text-align: center;}#sk-container-id-1 label.sk-toggleable__label-arrow:before {content: \"▸\";float: left;margin-right: 0.25em;color: #696969;}#sk-container-id-1 label.sk-toggleable__label-arrow:hover:before {color: black;}#sk-container-id-1 div.sk-estimator:hover label.sk-toggleable__label-arrow:before {color: black;}#sk-container-id-1 div.sk-toggleable__content {max-height: 0;max-width: 0;overflow: hidden;text-align: left;background-color: #f0f8ff;}#sk-container-id-1 div.sk-toggleable__content pre {margin: 0.2em;color: black;border-radius: 0.25em;background-color: #f0f8ff;}#sk-container-id-1 input.sk-toggleable__control:checked~div.sk-toggleable__content {max-height: 200px;max-width: 100%;overflow: auto;}#sk-container-id-1 input.sk-toggleable__control:checked~label.sk-toggleable__label-arrow:before {content: \"▾\";}#sk-container-id-1 div.sk-estimator input.sk-toggleable__control:checked~label.sk-toggleable__label {background-color: #d4ebff;}#sk-container-id-1 div.sk-label input.sk-toggleable__control:checked~label.sk-toggleable__label {background-color: #d4ebff;}#sk-container-id-1 input.sk-hidden--visually {border: 0;clip: rect(1px 1px 1px 1px);clip: rect(1px, 1px, 1px, 1px);height: 1px;margin: -1px;overflow: hidden;padding: 0;position: absolute;width: 1px;}#sk-container-id-1 div.sk-estimator {font-family: monospace;background-color: #f0f8ff;border: 1px dotted black;border-radius: 0.25em;box-sizing: border-box;margin-bottom: 0.5em;}#sk-container-id-1 div.sk-estimator:hover {background-color: #d4ebff;}#sk-container-id-1 div.sk-parallel-item::after {content: \"\";width: 100%;border-bottom: 1px solid gray;flex-grow: 1;}#sk-container-id-1 div.sk-label:hover label.sk-toggleable__label {background-color: #d4ebff;}#sk-container-id-1 div.sk-serial::before {content: \"\";position: absolute;border-left: 1px solid gray;box-sizing: border-box;top: 0;bottom: 0;left: 50%;z-index: 0;}#sk-container-id-1 div.sk-serial {display: flex;flex-direction: column;align-items: center;background-color: white;padding-right: 0.2em;padding-left: 0.2em;position: relative;}#sk-container-id-1 div.sk-item {position: relative;z-index: 1;}#sk-container-id-1 div.sk-parallel {display: flex;align-items: stretch;justify-content: center;background-color: white;position: relative;}#sk-container-id-1 div.sk-item::before, #sk-container-id-1 div.sk-parallel-item::before {content: \"\";position: absolute;border-left: 1px solid gray;box-sizing: border-box;top: 0;bottom: 0;left: 50%;z-index: -1;}#sk-container-id-1 div.sk-parallel-item {display: flex;flex-direction: column;z-index: 1;position: relative;background-color: white;}#sk-container-id-1 div.sk-parallel-item:first-child::after {align-self: flex-end;width: 50%;}#sk-container-id-1 div.sk-parallel-item:last-child::after {align-self: flex-start;width: 50%;}#sk-container-id-1 div.sk-parallel-item:only-child::after {width: 0;}#sk-container-id-1 div.sk-dashed-wrapped {border: 1px dashed gray;margin: 0 0.4em 0.5em 0.4em;box-sizing: border-box;padding-bottom: 0.4em;background-color: white;}#sk-container-id-1 div.sk-label label {font-family: monospace;font-weight: bold;display: inline-block;line-height: 1.2em;}#sk-container-id-1 div.sk-label-container {text-align: center;}#sk-container-id-1 div.sk-container {/* jupyter's `normalize.less` sets `[hidden] { display: none; }` but bootstrap.min.css set `[hidden] { display: none !important; }` so we also need the `!important` here to be able to override the default hidden behavior on the sphinx rendered scikit-learn.org. See: https://github.com/scikit-learn/scikit-learn/issues/21755 */display: inline-block !important;position: relative;}#sk-container-id-1 div.sk-text-repr-fallback {display: none;}</style><div id=\"sk-container-id-1\" class=\"sk-top-container\"><div class=\"sk-text-repr-fallback\"><pre>RandomForestClassifier(max_depth=3)</pre><b>In a Jupyter environment, please rerun this cell to show the HTML representation or trust the notebook. <br />On GitHub, the HTML representation is unable to render, please try loading this page with nbviewer.org.</b></div><div class=\"sk-container\" hidden><div class=\"sk-item\"><div class=\"sk-estimator sk-toggleable\"><input class=\"sk-toggleable__control sk-hidden--visually\" id=\"sk-estimator-id-1\" type=\"checkbox\" checked><label for=\"sk-estimator-id-1\" class=\"sk-toggleable__label sk-toggleable__label-arrow\">RandomForestClassifier</label><div class=\"sk-toggleable__content\"><pre>RandomForestClassifier(max_depth=3)</pre></div></div></div></div></div>"
      ],
      "text/plain": [
       "RandomForestClassifier(max_depth=3)"
      ]
     },
     "execution_count": 5,
     "metadata": {},
     "output_type": "execute_result"
    }
   ],
   "source": [
    "# Preprocess the data\n",
    "train_data = dataset[['PassengerId', 'Sex', 'Age', 'Fare', 'Survived']].dropna()\n",
    "train_data = train_data.set_index(['PassengerId'])\n",
    "train_data['Sex'] = train_data['Sex'].map({'male': 0, 'female': 1})\n",
    "# Train the model\n",
    "X_train = train_data[features]\n",
    "y_train = train_data['Survived']\n",
    "\n",
    "model = RandomForestClassifier(max_depth=3)\n",
    "model.fit(X_train, y_train)"
   ]
  },
  {
   "cell_type": "code",
   "execution_count": 6,
   "id": "91ea885a-2650-48f6-9144-a98ab9e5e2dc",
   "metadata": {
    "execution": {
     "iopub.execute_input": "2025-09-14T00:28:51.166991Z",
     "iopub.status.busy": "2025-09-14T00:28:51.166671Z",
     "iopub.status.idle": "2025-09-14T00:28:51.175247Z",
     "shell.execute_reply": "2025-09-14T00:28:51.174513Z",
     "shell.execute_reply.started": "2025-09-14T00:28:51.166963Z"
    },
    "tags": []
   },
   "outputs": [],
   "source": [
    "X_train_aux = X_train.reset_index().reset_index()"
   ]
  },
  {
   "cell_type": "code",
   "execution_count": 7,
   "id": "d0850538-57c9-4e61-83a6-81ad8c2e1954",
   "metadata": {
    "execution": {
     "iopub.execute_input": "2025-09-14T00:28:52.468905Z",
     "iopub.status.busy": "2025-09-14T00:28:52.468713Z",
     "iopub.status.idle": "2025-09-14T00:28:52.474569Z",
     "shell.execute_reply": "2025-09-14T00:28:52.473560Z",
     "shell.execute_reply.started": "2025-09-14T00:28:52.468889Z"
    },
    "tags": []
   },
   "outputs": [
    {
     "data": {
      "text/plain": [
       "0.4061624649859944"
      ]
     },
     "execution_count": 7,
     "metadata": {},
     "output_type": "execute_result"
    }
   ],
   "source": [
    "y_train.mean()"
   ]
  },
  {
   "cell_type": "code",
   "execution_count": 8,
   "id": "8bbd3199-226e-453c-9314-1eb77198e8b2",
   "metadata": {
    "execution": {
     "iopub.execute_input": "2025-09-14T00:28:54.381760Z",
     "iopub.status.busy": "2025-09-14T00:28:54.381336Z",
     "iopub.status.idle": "2025-09-14T00:28:54.446377Z",
     "shell.execute_reply": "2025-09-14T00:28:54.445656Z",
     "shell.execute_reply.started": "2025-09-14T00:28:54.381737Z"
    },
    "tags": []
   },
   "outputs": [],
   "source": [
    "def create_tree_shap(X, tree):\n",
    "    explainer_tree = shap.Explainer(tree)\n",
    "    return explainer_tree(X)\n",
    "\n",
    "shap_v_rf = create_tree_shap(X_train, model)"
   ]
  },
  {
   "cell_type": "code",
   "execution_count": 11,
   "id": "8e45163c-f8a4-42e5-9100-a11a3440736f",
   "metadata": {
    "execution": {
     "iopub.execute_input": "2025-09-14T00:29:22.102686Z",
     "iopub.status.busy": "2025-09-14T00:29:22.102240Z",
     "iopub.status.idle": "2025-09-14T00:29:22.429124Z",
     "shell.execute_reply": "2025-09-14T00:29:22.428156Z",
     "shell.execute_reply.started": "2025-09-14T00:29:22.102669Z"
    },
    "tags": []
   },
   "outputs": [
    {
     "data": {
      "image/png": "[encoded data removed]",
      "text/plain": [
       "<Figure size 864x288 with 1 Axes>"
      ]
     },
     "metadata": {},
     "output_type": "display_data"
    }
   ],
   "source": [
    "import shap\n",
    "import matplotlib.pyplot as plt\n",
    "from matplotlib.colors import LinearSegmentedColormap\n",
    "\n",
    "\n",
    "f = 1\n",
    "shap.plots.bar(shap_v_rf[:, :, 1], show=False)  # Do not auto-show\n",
    "\n",
    "fig = plt.gcf()         # Get current figure\n",
    "fig.set_size_inches(12*f, 4*f)  # Resize it\n",
    "\n",
    "# Change bar colors\n",
    "ax = plt.gca()\n",
    "for bar in ax.patches:\n",
    "    bar.set_facecolor('#25AC82')\n",
    "\n",
    "# Change label colors\n",
    "for text in ax.texts:\n",
    "    text.set_color('#25AC82')\n",
    "    \n",
    "fig.savefig(\"figs/shap_barplot.png\", dpi=300, bbox_inches='tight')  # or .pdf, .svg, etc.\n",
    "plt.show()"
   ]
  },
  {
   "cell_type": "code",
   "execution_count": 12,
   "id": "95aeb860-e04b-4eb8-8438-15ad37b414d7",
   "metadata": {
    "execution": {
     "iopub.execute_input": "2025-09-14T00:29:30.408131Z",
     "iopub.status.busy": "2025-09-14T00:29:30.407541Z",
     "iopub.status.idle": "2025-09-14T00:29:30.827899Z",
     "shell.execute_reply": "2025-09-14T00:29:30.827299Z",
     "shell.execute_reply.started": "2025-09-14T00:29:30.408113Z"
    },
    "tags": []
   },
   "outputs": [
    {
     "data": {
      "image/png": "[encoded data removed]",
      "text/plain": [
       "<Figure size 633.6x288 with 2 Axes>"
      ]
     },
     "metadata": {
      "needs_background": "light"
     },
     "output_type": "display_data"
    }
   ],
   "source": [
    "f = 0.8\n",
    "fig, ax = plt.subplots()\n",
    "shap.summary_plot(\n",
    "    shap_v_rf[:,:,1], max_display=6, show=False,\n",
    "#     plot_type=\"violin\",\n",
    "    cmap='viridis',\n",
    "    plot_size = (11*f, 5*f)\n",
    ")\n",
    "fig.axes[-1].set_ylabel('Feature Value', color='black')\n",
    "\n",
    "ax.grid(color='black', linestyle='-', axis='x', linewidth=.1)\n",
    "ax.grid(color='black', linestyle='-', axis='y', linewidth=.3)\n",
    "ax.set_xlabel(f'SHAP Value')\n",
    "fig.savefig(\"figs/shap_summary_plot.png\", dpi=300, bbox_inches='tight')  # or .pdf, .svg, etc.\n",
    "plt.show()"
   ]
  },
  {
   "cell_type": "code",
   "execution_count": 13,
   "id": "4e85dc3c-3229-42c7-8a3d-e03879686204",
   "metadata": {
    "execution": {
     "iopub.execute_input": "2025-09-14T00:29:40.980053Z",
     "iopub.status.busy": "2025-09-14T00:29:40.979716Z",
     "iopub.status.idle": "2025-09-14T00:29:41.476780Z",
     "shell.execute_reply": "2025-09-14T00:29:41.475750Z",
     "shell.execute_reply.started": "2025-09-14T00:29:40.980035Z"
    },
    "tags": []
   },
   "outputs": [
    {
     "data": {
      "image/png": "[encoded data removed]",
      "text/plain": [
       "<Figure size 540x288 with 2 Axes>"
      ]
     },
     "metadata": {
      "needs_background": "light"
     },
     "output_type": "display_data"
    }
   ],
   "source": [
    "c = 'Age'\n",
    "z = 0.5\n",
    "fig, ax = plt.subplots(1, figsize=(15 * z, 8 * z))\n",
    "ax.axhline(y=0, color='gray', linestyle='--', linewidth=1)\n",
    "shap.plots.scatter(shap_v_rf[:,c,1], \n",
    "                   ax=ax,\n",
    "                   show=False,\n",
    "                   hist=True,\n",
    "                   color='#25AC82'\n",
    "                  )\n",
    "fig.savefig(\"figs/shap_dependence_scatter_plot.png\", dpi=300, bbox_inches='tight')  # or .pdf, .svg, etc.\n",
    "plt.show()"
   ]
  },
  {
   "cell_type": "code",
   "execution_count": 14,
   "id": "0a4d6ed1-6f61-4175-b908-30898dc9ed23",
   "metadata": {
    "execution": {
     "iopub.execute_input": "2025-09-14T00:29:46.606325Z",
     "iopub.status.busy": "2025-09-14T00:29:46.605761Z",
     "iopub.status.idle": "2025-09-14T00:29:46.998513Z",
     "shell.execute_reply": "2025-09-14T00:29:46.997677Z",
     "shell.execute_reply.started": "2025-09-14T00:29:46.606302Z"
    },
    "tags": []
   },
   "outputs": [
    {
     "data": {
      "image/png": "[encoded data removed]",
      "text/plain": [
       "<Figure size 540x288 with 2 Axes>"
      ]
     },
     "metadata": {
      "needs_background": "light"
     },
     "output_type": "display_data"
    }
   ],
   "source": [
    "c = 'Fare'\n",
    "z = 0.5\n",
    "fig, ax = plt.subplots(1, figsize=(15 * z, 8 * z))\n",
    "ax.axhline(y=0, color='gray', linestyle='--', linewidth=1)\n",
    "shap.plots.scatter(shap_v_rf[:,c,1], \n",
    "                   ax=ax,\n",
    "                   show=False,\n",
    "                   hist=True,\n",
    "                   color='#25AC82'\n",
    "                  )\n",
    "fig.savefig(\"figs/shap_dependence_scatter_plot_fare.png\", dpi=300, bbox_inches='tight')  # or .pdf, .svg, etc.\n",
    "plt.show()"
   ]
  },
  {
   "cell_type": "code",
   "execution_count": 15,
   "id": "f5974374-de69-44d8-9f25-02943f98c604",
   "metadata": {
    "execution": {
     "iopub.execute_input": "2025-09-14T00:29:52.974369Z",
     "iopub.status.busy": "2025-09-14T00:29:52.973894Z",
     "iopub.status.idle": "2025-09-14T00:29:53.674046Z",
     "shell.execute_reply": "2025-09-14T00:29:53.673291Z",
     "shell.execute_reply.started": "2025-09-14T00:29:52.974348Z"
    },
    "tags": []
   },
   "outputs": [
    {
     "data": {
      "image/png": "[encoded data removed]",
      "text/plain": [
       "<Figure size 576x216 with 3 Axes>"
      ]
     },
     "metadata": {},
     "output_type": "display_data"
    }
   ],
   "source": [
    "import matplotlib.pyplot as plt\n",
    "import matplotlib\n",
    "import shap\n",
    "\n",
    "z = 0.8\n",
    "id_obs = 628\n",
    "\n",
    "fig, ax = plt.subplots(1, figsize=(15 * z, 8 * z))\n",
    "shap.plots.waterfall(shap_v_rf[id_obs, :, 1], show=False)\n",
    "\n",
    "# Default SHAP colors\n",
    "default_pos_color = \"#ff0051\"\n",
    "default_neg_color = \"#008bfb\"\n",
    "\n",
    "# Custom colors\n",
    "positive_color = \"#25AC82\"\n",
    "negative_color = \"#481C6E\"\n",
    "\n",
    "# Walk through the figure's children to adjust colors\n",
    "for fc in plt.gcf().get_children():\n",
    "    for fcc in fc.get_children():\n",
    "        # Arrows and bars\n",
    "        if isinstance(fcc, matplotlib.patches.FancyArrow) or isinstance(fcc, matplotlib.patches.Rectangle):\n",
    "            face = matplotlib.colors.to_hex(fcc.get_facecolor())\n",
    "            if face == default_pos_color:\n",
    "                fcc.set_facecolor(positive_color)\n",
    "                fcc.set_edgecolor(positive_color)  # Remove red edge\n",
    "            elif face == default_neg_color:\n",
    "                fcc.set_facecolor(negative_color)\n",
    "                fcc.set_edgecolor(negative_color)\n",
    "        # Text labels\n",
    "        elif isinstance(fcc, plt.Text):\n",
    "            color = matplotlib.colors.to_hex(fcc.get_color())\n",
    "            if color == default_pos_color:\n",
    "                fcc.set_color(positive_color)\n",
    "            elif color == default_neg_color:\n",
    "                fcc.set_color(negative_color)\n",
    "\n",
    "plt.savefig(\"figs/shap_waterfall_clean.png\", dpi=300, bbox_inches='tight')\n",
    "plt.show()"
   ]
  },
  {
   "cell_type": "markdown",
   "id": "1a659341-9262-4fc4-aae0-e3e51ca3f29f",
   "metadata": {},
   "source": [
    "### Fairness"
   ]
  },
  {
   "cell_type": "code",
   "execution_count": 16,
   "id": "bb739c3a-dd34-4801-8d8f-11da4da648bd",
   "metadata": {
    "execution": {
     "iopub.execute_input": "2025-09-14T00:29:57.135554Z",
     "iopub.status.busy": "2025-09-14T00:29:57.134983Z",
     "iopub.status.idle": "2025-09-14T00:29:57.143075Z",
     "shell.execute_reply": "2025-09-14T00:29:57.142251Z",
     "shell.execute_reply.started": "2025-09-14T00:29:57.135536Z"
    },
    "tags": []
   },
   "outputs": [],
   "source": [
    "dataset['Female'] = dataset['Sex'].map({'male': 0, 'female': 1})\n",
    "dataset['group'] = (dataset['Embarked'] == 'C').astype(int)"
   ]
  },
  {
   "cell_type": "code",
   "execution_count": 17,
   "id": "f7b82d75-4e7e-4111-aeef-c1166197ddcf",
   "metadata": {
    "execution": {
     "iopub.execute_input": "2025-09-14T00:29:57.788187Z",
     "iopub.status.busy": "2025-09-14T00:29:57.787545Z",
     "iopub.status.idle": "2025-09-14T00:29:57.812889Z",
     "shell.execute_reply": "2025-09-14T00:29:57.812163Z",
     "shell.execute_reply.started": "2025-09-14T00:29:57.788161Z"
    },
    "tags": []
   },
   "outputs": [
    {
     "data": {
      "text/html": [
       "<div>\n",
       "<style scoped>\n",
       "    .dataframe tbody tr th:only-of-type {\n",
       "        vertical-align: middle;\n",
       "    }\n",
       "\n",
       "    .dataframe tbody tr th {\n",
       "        vertical-align: top;\n",
       "    }\n",
       "\n",
       "    .dataframe thead th {\n",
       "        text-align: right;\n",
       "    }\n",
       "</style>\n",
       "<table border=\"1\" class=\"dataframe\">\n",
       "  <thead>\n",
       "    <tr style=\"text-align: right;\">\n",
       "      <th></th>\n",
       "      <th>Age</th>\n",
       "      <th>Fare</th>\n",
       "      <th>Female</th>\n",
       "      <th>Survived</th>\n",
       "    </tr>\n",
       "    <tr>\n",
       "      <th>group</th>\n",
       "      <th></th>\n",
       "      <th></th>\n",
       "      <th></th>\n",
       "      <th></th>\n",
       "    </tr>\n",
       "  </thead>\n",
       "  <tbody>\n",
       "    <tr>\n",
       "      <th>0</th>\n",
       "      <td>29.450771</td>\n",
       "      <td>25.756090</td>\n",
       "      <td>0.333333</td>\n",
       "      <td>0.344398</td>\n",
       "    </tr>\n",
       "    <tr>\n",
       "      <th>1</th>\n",
       "      <td>30.814769</td>\n",
       "      <td>59.954144</td>\n",
       "      <td>0.434524</td>\n",
       "      <td>0.553571</td>\n",
       "    </tr>\n",
       "  </tbody>\n",
       "</table>\n",
       "</div>"
      ],
      "text/plain": [
       "             Age       Fare    Female  Survived\n",
       "group                                          \n",
       "0      29.450771  25.756090  0.333333  0.344398\n",
       "1      30.814769  59.954144  0.434524  0.553571"
      ]
     },
     "execution_count": 17,
     "metadata": {},
     "output_type": "execute_result"
    }
   ],
   "source": [
    "dataset.groupby('group')[['Age', 'Fare', 'Female', 'Survived']].mean()"
   ]
  },
  {
   "cell_type": "code",
   "execution_count": 18,
   "id": "97e46c5b-a49c-49d9-a210-30a43bdb15bb",
   "metadata": {
    "execution": {
     "iopub.execute_input": "2025-09-14T00:29:58.663590Z",
     "iopub.status.busy": "2025-09-14T00:29:58.663043Z",
     "iopub.status.idle": "2025-09-14T00:29:58.670346Z",
     "shell.execute_reply": "2025-09-14T00:29:58.669684Z",
     "shell.execute_reply.started": "2025-09-14T00:29:58.663569Z"
    },
    "tags": []
   },
   "outputs": [
    {
     "data": {
      "text/plain": [
       "Embarked\n",
       "C    59.954144\n",
       "Q    13.276030\n",
       "S    27.079812\n",
       "Name: Fare, dtype: float64"
      ]
     },
     "execution_count": 18,
     "metadata": {},
     "output_type": "execute_result"
    }
   ],
   "source": [
    "dataset.groupby('Embarked')['Fare'].mean()"
   ]
  },
  {
   "cell_type": "code",
   "execution_count": 19,
   "id": "ea14aaa0-1625-4d87-a840-4d9e21422fff",
   "metadata": {
    "execution": {
     "iopub.execute_input": "2025-09-14T00:30:01.995210Z",
     "iopub.status.busy": "2025-09-14T00:30:01.995030Z",
     "iopub.status.idle": "2025-09-14T00:30:02.015649Z",
     "shell.execute_reply": "2025-09-14T00:30:02.014498Z",
     "shell.execute_reply.started": "2025-09-14T00:30:01.995194Z"
    },
    "tags": []
   },
   "outputs": [
    {
     "data": {
      "text/html": [
       "<div>\n",
       "<style scoped>\n",
       "    .dataframe tbody tr th:only-of-type {\n",
       "        vertical-align: middle;\n",
       "    }\n",
       "\n",
       "    .dataframe tbody tr th {\n",
       "        vertical-align: top;\n",
       "    }\n",
       "\n",
       "    .dataframe thead th {\n",
       "        text-align: right;\n",
       "    }\n",
       "</style>\n",
       "<table border=\"1\" class=\"dataframe\">\n",
       "  <thead>\n",
       "    <tr style=\"text-align: right;\">\n",
       "      <th></th>\n",
       "      <th>PassengerId</th>\n",
       "      <th>Survived</th>\n",
       "      <th>Pclass</th>\n",
       "      <th>Name</th>\n",
       "      <th>Sex</th>\n",
       "      <th>Age</th>\n",
       "      <th>SibSp</th>\n",
       "      <th>Parch</th>\n",
       "      <th>Ticket</th>\n",
       "      <th>Fare</th>\n",
       "      <th>Cabin</th>\n",
       "      <th>Embarked</th>\n",
       "      <th>Female</th>\n",
       "      <th>group</th>\n",
       "    </tr>\n",
       "  </thead>\n",
       "  <tbody>\n",
       "    <tr>\n",
       "      <th>0</th>\n",
       "      <td>1</td>\n",
       "      <td>0</td>\n",
       "      <td>3</td>\n",
       "      <td>Braund, Mr. Owen Harris</td>\n",
       "      <td>male</td>\n",
       "      <td>22.0</td>\n",
       "      <td>1</td>\n",
       "      <td>0</td>\n",
       "      <td>A/5 21171</td>\n",
       "      <td>7.2500</td>\n",
       "      <td>NaN</td>\n",
       "      <td>S</td>\n",
       "      <td>0</td>\n",
       "      <td>0</td>\n",
       "    </tr>\n",
       "    <tr>\n",
       "      <th>1</th>\n",
       "      <td>2</td>\n",
       "      <td>1</td>\n",
       "      <td>1</td>\n",
       "      <td>Cumings, Mrs. John Bradley (Florence Briggs Th...</td>\n",
       "      <td>female</td>\n",
       "      <td>38.0</td>\n",
       "      <td>1</td>\n",
       "      <td>0</td>\n",
       "      <td>PC 17599</td>\n",
       "      <td>71.2833</td>\n",
       "      <td>C85</td>\n",
       "      <td>C</td>\n",
       "      <td>1</td>\n",
       "      <td>1</td>\n",
       "    </tr>\n",
       "    <tr>\n",
       "      <th>2</th>\n",
       "      <td>3</td>\n",
       "      <td>1</td>\n",
       "      <td>3</td>\n",
       "      <td>Heikkinen, Miss. Laina</td>\n",
       "      <td>female</td>\n",
       "      <td>26.0</td>\n",
       "      <td>0</td>\n",
       "      <td>0</td>\n",
       "      <td>STON/O2. 3101282</td>\n",
       "      <td>7.9250</td>\n",
       "      <td>NaN</td>\n",
       "      <td>S</td>\n",
       "      <td>1</td>\n",
       "      <td>0</td>\n",
       "    </tr>\n",
       "    <tr>\n",
       "      <th>3</th>\n",
       "      <td>4</td>\n",
       "      <td>1</td>\n",
       "      <td>1</td>\n",
       "      <td>Futrelle, Mrs. Jacques Heath (Lily May Peel)</td>\n",
       "      <td>female</td>\n",
       "      <td>35.0</td>\n",
       "      <td>1</td>\n",
       "      <td>0</td>\n",
       "      <td>113803</td>\n",
       "      <td>53.1000</td>\n",
       "      <td>C123</td>\n",
       "      <td>S</td>\n",
       "      <td>1</td>\n",
       "      <td>0</td>\n",
       "    </tr>\n",
       "    <tr>\n",
       "      <th>4</th>\n",
       "      <td>5</td>\n",
       "      <td>0</td>\n",
       "      <td>3</td>\n",
       "      <td>Allen, Mr. William Henry</td>\n",
       "      <td>male</td>\n",
       "      <td>35.0</td>\n",
       "      <td>0</td>\n",
       "      <td>0</td>\n",
       "      <td>373450</td>\n",
       "      <td>8.0500</td>\n",
       "      <td>NaN</td>\n",
       "      <td>S</td>\n",
       "      <td>0</td>\n",
       "      <td>0</td>\n",
       "    </tr>\n",
       "    <tr>\n",
       "      <th>...</th>\n",
       "      <td>...</td>\n",
       "      <td>...</td>\n",
       "      <td>...</td>\n",
       "      <td>...</td>\n",
       "      <td>...</td>\n",
       "      <td>...</td>\n",
       "      <td>...</td>\n",
       "      <td>...</td>\n",
       "      <td>...</td>\n",
       "      <td>...</td>\n",
       "      <td>...</td>\n",
       "      <td>...</td>\n",
       "      <td>...</td>\n",
       "      <td>...</td>\n",
       "    </tr>\n",
       "    <tr>\n",
       "      <th>886</th>\n",
       "      <td>887</td>\n",
       "      <td>0</td>\n",
       "      <td>2</td>\n",
       "      <td>Montvila, Rev. Juozas</td>\n",
       "      <td>male</td>\n",
       "      <td>27.0</td>\n",
       "      <td>0</td>\n",
       "      <td>0</td>\n",
       "      <td>211536</td>\n",
       "      <td>13.0000</td>\n",
       "      <td>NaN</td>\n",
       "      <td>S</td>\n",
       "      <td>0</td>\n",
       "      <td>0</td>\n",
       "    </tr>\n",
       "    <tr>\n",
       "      <th>887</th>\n",
       "      <td>888</td>\n",
       "      <td>1</td>\n",
       "      <td>1</td>\n",
       "      <td>Graham, Miss. Margaret Edith</td>\n",
       "      <td>female</td>\n",
       "      <td>19.0</td>\n",
       "      <td>0</td>\n",
       "      <td>0</td>\n",
       "      <td>112053</td>\n",
       "      <td>30.0000</td>\n",
       "      <td>B42</td>\n",
       "      <td>S</td>\n",
       "      <td>1</td>\n",
       "      <td>0</td>\n",
       "    </tr>\n",
       "    <tr>\n",
       "      <th>888</th>\n",
       "      <td>889</td>\n",
       "      <td>0</td>\n",
       "      <td>3</td>\n",
       "      <td>Johnston, Miss. Catherine Helen \"Carrie\"</td>\n",
       "      <td>female</td>\n",
       "      <td>NaN</td>\n",
       "      <td>1</td>\n",
       "      <td>2</td>\n",
       "      <td>W./C. 6607</td>\n",
       "      <td>23.4500</td>\n",
       "      <td>NaN</td>\n",
       "      <td>S</td>\n",
       "      <td>1</td>\n",
       "      <td>0</td>\n",
       "    </tr>\n",
       "    <tr>\n",
       "      <th>889</th>\n",
       "      <td>890</td>\n",
       "      <td>1</td>\n",
       "      <td>1</td>\n",
       "      <td>Behr, Mr. Karl Howell</td>\n",
       "      <td>male</td>\n",
       "      <td>26.0</td>\n",
       "      <td>0</td>\n",
       "      <td>0</td>\n",
       "      <td>111369</td>\n",
       "      <td>30.0000</td>\n",
       "      <td>C148</td>\n",
       "      <td>C</td>\n",
       "      <td>0</td>\n",
       "      <td>1</td>\n",
       "    </tr>\n",
       "    <tr>\n",
       "      <th>890</th>\n",
       "      <td>891</td>\n",
       "      <td>0</td>\n",
       "      <td>3</td>\n",
       "      <td>Dooley, Mr. Patrick</td>\n",
       "      <td>male</td>\n",
       "      <td>32.0</td>\n",
       "      <td>0</td>\n",
       "      <td>0</td>\n",
       "      <td>370376</td>\n",
       "      <td>7.7500</td>\n",
       "      <td>NaN</td>\n",
       "      <td>Q</td>\n",
       "      <td>0</td>\n",
       "      <td>0</td>\n",
       "    </tr>\n",
       "  </tbody>\n",
       "</table>\n",
       "<p>891 rows × 14 columns</p>\n",
       "</div>"
      ],
      "text/plain": [
       "     PassengerId  Survived  Pclass  \\\n",
       "0              1         0       3   \n",
       "1              2         1       1   \n",
       "2              3         1       3   \n",
       "3              4         1       1   \n",
       "4              5         0       3   \n",
       "..           ...       ...     ...   \n",
       "886          887         0       2   \n",
       "887          888         1       1   \n",
       "888          889         0       3   \n",
       "889          890         1       1   \n",
       "890          891         0       3   \n",
       "\n",
       "                                                  Name     Sex   Age  SibSp  \\\n",
       "0                              Braund, Mr. Owen Harris    male  22.0      1   \n",
       "1    Cumings, Mrs. John Bradley (Florence Briggs Th...  female  38.0      1   \n",
       "2                               Heikkinen, Miss. Laina  female  26.0      0   \n",
       "3         Futrelle, Mrs. Jacques Heath (Lily May Peel)  female  35.0      1   \n",
       "4                             Allen, Mr. William Henry    male  35.0      0   \n",
       "..                                                 ...     ...   ...    ...   \n",
       "886                              Montvila, Rev. Juozas    male  27.0      0   \n",
       "887                       Graham, Miss. Margaret Edith  female  19.0      0   \n",
       "888           Johnston, Miss. Catherine Helen \"Carrie\"  female   NaN      1   \n",
       "889                              Behr, Mr. Karl Howell    male  26.0      0   \n",
       "890                                Dooley, Mr. Patrick    male  32.0      0   \n",
       "\n",
       "     Parch            Ticket     Fare Cabin Embarked  Female  group  \n",
       "0        0         A/5 21171   7.2500   NaN        S       0      0  \n",
       "1        0          PC 17599  71.2833   C85        C       1      1  \n",
       "2        0  STON/O2. 3101282   7.9250   NaN        S       1      0  \n",
       "3        0            113803  53.1000  C123        S       1      0  \n",
       "4        0            373450   8.0500   NaN        S       0      0  \n",
       "..     ...               ...      ...   ...      ...     ...    ...  \n",
       "886      0            211536  13.0000   NaN        S       0      0  \n",
       "887      0            112053  30.0000   B42        S       1      0  \n",
       "888      2        W./C. 6607  23.4500   NaN        S       1      0  \n",
       "889      0            111369  30.0000  C148        C       0      1  \n",
       "890      0            370376   7.7500   NaN        Q       0      0  \n",
       "\n",
       "[891 rows x 14 columns]"
      ]
     },
     "execution_count": 19,
     "metadata": {},
     "output_type": "execute_result"
    }
   ],
   "source": [
    "dataset"
   ]
  },
  {
   "cell_type": "code",
   "execution_count": 27,
   "id": "0fcd4f33-dc8d-4b0c-86d1-ec6fbc17819f",
   "metadata": {
    "execution": {
     "iopub.execute_input": "2025-09-14T00:31:22.253143Z",
     "iopub.status.busy": "2025-09-14T00:31:22.252950Z",
     "iopub.status.idle": "2025-09-14T00:31:22.267026Z",
     "shell.execute_reply": "2025-09-14T00:31:22.266077Z",
     "shell.execute_reply.started": "2025-09-14T00:31:22.253125Z"
    },
    "tags": []
   },
   "outputs": [],
   "source": [
    "import statsmodels.stats.api as sms\n",
    "import seaborn as sns\n",
    "\n",
    "colors_list = [\n",
    "    '#25AC82',\n",
    "    '#481C6E',\n",
    "    '#E8D202',\n",
    "    '#2F6B8E',\n",
    "    '#5DA5DA',\n",
    "    'white',\n",
    "    '#C0C0C0',\n",
    "    'grey',\n",
    "    '#900C3F',\n",
    "    '#581845',\n",
    "\n",
    "]\n",
    "\n",
    "def shapv2df(shap_values_raw):\n",
    "    df_shap = pd.DataFrame(shap_values_raw[:,:,1].values, columns=shap_values_raw.feature_names)\n",
    "    df_shap[\"pred\"] = df_shap[shap_values_raw.feature_names].sum(axis=1)\n",
    "    return df_shap\n",
    "\n",
    "def shap_dif_in_means_feature(df, col, groups, random=False):\n",
    "    if random:\n",
    "        n = df.shape[0]\n",
    "        v_bools = np.random.choice(a=[False, True], size=n)\n",
    "        shap_c2_f = df[v_bools][col].values\n",
    "        shap_c1_f = df[~v_bools][col].values\n",
    "    else:\n",
    "        v_bools = (groups - 0).astype(bool)\n",
    "        shap_c2_f = df[v_bools][col].values\n",
    "        shap_c1_f = df[~ v_bools][col].values\n",
    "    print(col)\n",
    "    print(shap_c1_f.mean())\n",
    "    print(shap_c2_f.mean())\n",
    "    cm = sms.CompareMeans(sms.DescrStatsW(shap_c2_f), sms.DescrStatsW(shap_c1_f))\n",
    "    df = pd.DataFrame(cm.summary().data[1][1:], index=cm.summary().data[0][1:]).T.assign(feature=col)\n",
    "    df[\"coef\"] = df[\"coef\"].astype(float)\n",
    "    df[\"P>|t|\"] = df[\"P>|t|\"].astype(float)\n",
    "    df[\"[0.025\"] = df[\"[0.025\"].astype(float)\n",
    "    df[\"0.975]\"] = df[\"0.975]\"].astype(float)\n",
    "    df[\"t\"] = df[\"t\"].astype(float)\n",
    "    return df\n",
    "\n",
    "def plot_dif_groups(df_plot, df_global, save=False):\n",
    "    fig, ax = plt.subplots(figsize=(16, 9))\n",
    "\n",
    "    # Plot individual confidence intervals and coefficients\n",
    "    for lower, upper, coef, y in zip(df_plot['[0.025'], df_plot['0.975]'], df_plot['coef'], range(len(df_plot))):\n",
    "        ax.plot((lower, upper), (y, y), linestyle='--', color=colors_list[0], alpha=0.6, linewidth=2)\n",
    "        ax.plot(coef, y, 'o', color=colors_list[0], markersize=14, markeredgewidth=0)\n",
    "\n",
    "    # Plot global coefficient\n",
    "    y += 1\n",
    "    ax.plot((df_global[\"[0.025\"], df_global[\"0.975]\"]), (y, y), linestyle='--', color=colors_list[1], alpha=0.6, linewidth=2)\n",
    "    ax.plot(df_global[\"coef\"], y, 'o', color=colors_list[1], markersize=16, markeredgewidth=0)\n",
    "\n",
    "    # Y-axis labels\n",
    "    labels = list(df_plot['feature']) + [\"Global\"]\n",
    "    ax.set_yticks(range(len(labels)))\n",
    "    ax.set_yticklabels(labels, fontsize=12)\n",
    "\n",
    "    # X-axis config\n",
    "    ax.axvline(0, color=\"grey\", linestyle=\"-\", linewidth=1.2)\n",
    "    ax.set_xlabel(r'$| E(\\phi\\mid Cherbourg) - E(\\phi\\mid notCherbourg) |$', fontsize=14, color='black')\n",
    "    ax.tick_params(axis='x', colors='black', labelsize=12)\n",
    "    ax.tick_params(axis='y', colors='black')\n",
    "\n",
    "    # Title\n",
    "    ax.set_title(\"SHAP Geodemographic Disparity\", fontsize=16, weight='bold', color='black', pad=20)\n",
    "\n",
    "    # Grid & layout\n",
    "    ax.set_axisbelow(True)\n",
    "    ax.xaxis.grid(True, color='gray', linestyle='dashed', alpha=0.3)\n",
    "    sns.despine(trim=True)\n",
    "    plt.savefig(\"figs/shap_disparity_plot.png\", dpi=300, bbox_inches='tight')\n",
    "    plt.tight_layout()\n",
    "    \n",
    "def pipe_plot_dif(shap_value, modo, random=False, save=False):\n",
    "    df_shap = shapv2df(shap_value, modo)\n",
    "    df_dif_shap = pd.concat([shap_dif_in_means_feature(df_shap, c, df_region_shap.groups, random=random)  for c in shap_value.feature_names])\n",
    "    df_plot = df_dif_shap.assign(abs_coef = abs(df_dif_shap[\"coef\"].values)).dropna().sort_values(\"abs_coef\").tail(10)\n",
    "    df_plot['feature'] = df_plot['feature'].map(dict_map_feature)\n",
    "    df_global = shap_dif_in_means_feature(df_shap, \"pred\", df_region_shap.groups, random=random)\n",
    "    plot_dif_groups(df_plot, df_global, modo, save)"
   ]
  },
  {
   "cell_type": "code",
   "execution_count": 28,
   "id": "8f3befd0-a519-44e0-b546-61fcb13005e8",
   "metadata": {
    "execution": {
     "iopub.execute_input": "2025-09-14T00:31:22.929573Z",
     "iopub.status.busy": "2025-09-14T00:31:22.928823Z",
     "iopub.status.idle": "2025-09-14T00:31:22.941946Z",
     "shell.execute_reply": "2025-09-14T00:31:22.941105Z",
     "shell.execute_reply.started": "2025-09-14T00:31:22.929545Z"
    },
    "tags": []
   },
   "outputs": [
    {
     "data": {
      "text/html": [
       "<div>\n",
       "<style scoped>\n",
       "    .dataframe tbody tr th:only-of-type {\n",
       "        vertical-align: middle;\n",
       "    }\n",
       "\n",
       "    .dataframe tbody tr th {\n",
       "        vertical-align: top;\n",
       "    }\n",
       "\n",
       "    .dataframe thead th {\n",
       "        text-align: right;\n",
       "    }\n",
       "</style>\n",
       "<table border=\"1\" class=\"dataframe\">\n",
       "  <thead>\n",
       "    <tr style=\"text-align: right;\">\n",
       "      <th></th>\n",
       "      <th>Sex</th>\n",
       "      <th>Age</th>\n",
       "      <th>Fare</th>\n",
       "      <th>pred</th>\n",
       "    </tr>\n",
       "  </thead>\n",
       "  <tbody>\n",
       "    <tr>\n",
       "      <th>0</th>\n",
       "      <td>-0.129258</td>\n",
       "      <td>-0.022303</td>\n",
       "      <td>-0.099349</td>\n",
       "      <td>-0.250910</td>\n",
       "    </tr>\n",
       "    <tr>\n",
       "      <th>1</th>\n",
       "      <td>0.232159</td>\n",
       "      <td>0.009257</td>\n",
       "      <td>0.186782</td>\n",
       "      <td>0.428199</td>\n",
       "    </tr>\n",
       "    <tr>\n",
       "      <th>2</th>\n",
       "      <td>0.232882</td>\n",
       "      <td>-0.001607</td>\n",
       "      <td>-0.101464</td>\n",
       "      <td>0.129810</td>\n",
       "    </tr>\n",
       "    <tr>\n",
       "      <th>3</th>\n",
       "      <td>0.235389</td>\n",
       "      <td>0.015986</td>\n",
       "      <td>0.176461</td>\n",
       "      <td>0.427836</td>\n",
       "    </tr>\n",
       "    <tr>\n",
       "      <th>4</th>\n",
       "      <td>-0.120388</td>\n",
       "      <td>-0.008986</td>\n",
       "      <td>-0.090672</td>\n",
       "      <td>-0.220047</td>\n",
       "    </tr>\n",
       "    <tr>\n",
       "      <th>...</th>\n",
       "      <td>...</td>\n",
       "      <td>...</td>\n",
       "      <td>...</td>\n",
       "      <td>...</td>\n",
       "    </tr>\n",
       "    <tr>\n",
       "      <th>709</th>\n",
       "      <td>0.213853</td>\n",
       "      <td>-0.005738</td>\n",
       "      <td>0.005855</td>\n",
       "      <td>0.213970</td>\n",
       "    </tr>\n",
       "    <tr>\n",
       "      <th>710</th>\n",
       "      <td>-0.135994</td>\n",
       "      <td>-0.013807</td>\n",
       "      <td>-0.019120</td>\n",
       "      <td>-0.168921</td>\n",
       "    </tr>\n",
       "    <tr>\n",
       "      <th>711</th>\n",
       "      <td>0.215757</td>\n",
       "      <td>-0.011490</td>\n",
       "      <td>0.009064</td>\n",
       "      <td>0.213331</td>\n",
       "    </tr>\n",
       "    <tr>\n",
       "      <th>712</th>\n",
       "      <td>-0.126060</td>\n",
       "      <td>-0.009670</td>\n",
       "      <td>0.040510</td>\n",
       "      <td>-0.095221</td>\n",
       "    </tr>\n",
       "    <tr>\n",
       "      <th>713</th>\n",
       "      <td>-0.123037</td>\n",
       "      <td>-0.011616</td>\n",
       "      <td>-0.100297</td>\n",
       "      <td>-0.234950</td>\n",
       "    </tr>\n",
       "  </tbody>\n",
       "</table>\n",
       "<p>714 rows × 4 columns</p>\n",
       "</div>"
      ],
      "text/plain": [
       "          Sex       Age      Fare      pred\n",
       "0   -0.129258 -0.022303 -0.099349 -0.250910\n",
       "1    0.232159  0.009257  0.186782  0.428199\n",
       "2    0.232882 -0.001607 -0.101464  0.129810\n",
       "3    0.235389  0.015986  0.176461  0.427836\n",
       "4   -0.120388 -0.008986 -0.090672 -0.220047\n",
       "..        ...       ...       ...       ...\n",
       "709  0.213853 -0.005738  0.005855  0.213970\n",
       "710 -0.135994 -0.013807 -0.019120 -0.168921\n",
       "711  0.215757 -0.011490  0.009064  0.213331\n",
       "712 -0.126060 -0.009670  0.040510 -0.095221\n",
       "713 -0.123037 -0.011616 -0.100297 -0.234950\n",
       "\n",
       "[714 rows x 4 columns]"
      ]
     },
     "execution_count": 28,
     "metadata": {},
     "output_type": "execute_result"
    }
   ],
   "source": [
    "df_shap"
   ]
  },
  {
   "cell_type": "code",
   "execution_count": 29,
   "id": "d8f93ce8-ed2d-44a5-8820-a832ff49f265",
   "metadata": {
    "execution": {
     "iopub.execute_input": "2025-09-14T00:31:23.154018Z",
     "iopub.status.busy": "2025-09-14T00:31:23.153135Z",
     "iopub.status.idle": "2025-09-14T00:31:23.164473Z",
     "shell.execute_reply": "2025-09-14T00:31:23.163596Z",
     "shell.execute_reply.started": "2025-09-14T00:31:23.153988Z"
    },
    "tags": []
   },
   "outputs": [],
   "source": [
    "df_x_embarked = pd.merge(\n",
    "    X_train.reset_index(),\n",
    "    dataset[['PassengerId', 'Embarked']],\n",
    "    on=['PassengerId']\n",
    ")"
   ]
  },
  {
   "cell_type": "code",
   "execution_count": 30,
   "id": "68588979-e2c0-4924-9daa-4dbeeaf80dca",
   "metadata": {
    "execution": {
     "iopub.execute_input": "2025-09-14T00:31:23.353781Z",
     "iopub.status.busy": "2025-09-14T00:31:23.352824Z",
     "iopub.status.idle": "2025-09-14T00:31:23.359659Z",
     "shell.execute_reply": "2025-09-14T00:31:23.358771Z",
     "shell.execute_reply.started": "2025-09-14T00:31:23.353744Z"
    },
    "tags": []
   },
   "outputs": [],
   "source": [
    "df_x_embarked['group'] = (df_x_embarked['Embarked'] == 'C').astype(int)"
   ]
  },
  {
   "cell_type": "code",
   "execution_count": 31,
   "id": "b99b3e73-3216-481b-a4fd-b17e7fa3e450",
   "metadata": {
    "execution": {
     "iopub.execute_input": "2025-09-14T00:31:23.691566Z",
     "iopub.status.busy": "2025-09-14T00:31:23.691361Z",
     "iopub.status.idle": "2025-09-14T00:31:24.386343Z",
     "shell.execute_reply": "2025-09-14T00:31:24.385489Z",
     "shell.execute_reply.started": "2025-09-14T00:31:23.691547Z"
    },
    "tags": []
   },
   "outputs": [
    {
     "name": "stdout",
     "output_type": "stream",
     "text": [
      "Sex\n",
      "-0.006592474153898471\n",
      "0.03431223709911297\n",
      "Age\n",
      "-0.0010083493659714248\n",
      "0.0025247192961722026\n",
      "Fare\n",
      "-0.013271726967571689\n",
      "0.06620793782381255\n",
      "pred\n",
      "-0.020872550487441584\n",
      "0.10304489421909772\n"
     ]
    },
    {
     "data": {
      "image/png": "[encoded data removed]",
      "text/plain": [
       "<Figure size 1152x648 with 1 Axes>"
      ]
     },
     "metadata": {
      "needs_background": "light"
     },
     "output_type": "display_data"
    }
   ],
   "source": [
    "df_shap = shapv2df(shap_v_rf)\n",
    "df_dif_shap = pd.concat([shap_dif_in_means_feature(df_shap, c, df_x_embarked.group, random=False)  for c in shap_v_rf.feature_names])\n",
    "df_plot = df_dif_shap.assign(abs_coef = abs(df_dif_shap[\"coef\"].values)).dropna().sort_values(\"abs_coef\").tail(10)\n",
    "df_global = shap_dif_in_means_feature(df_shap, \"pred\",  df_x_embarked.group, random=False)\n",
    "plot_dif_groups(df_plot, df_global)"
   ]
  },
  {
   "cell_type": "code",
   "execution_count": null,
   "id": "8efc7819-67df-4cac-b932-193bf9b084e6",
   "metadata": {},
   "outputs": [],
   "source": []
  }
 ],
 "metadata": {
  "kernelspec": {
   "display_name": "InequalityMobility",
   "language": "python",
   "name": "python3"
  },
  "language_info": {
   "codemirror_mode": {
    "name": "ipython",
    "version": 3
   },
   "file_extension": ".py",
   "mimetype": "text/x-python",
   "name": "python",
   "nbconvert_exporter": "python",
   "pygments_lexer": "ipython3",
   "version": "3.8.10"
  }
 },
 "nbformat": 4,
 "nbformat_minor": 5
}
