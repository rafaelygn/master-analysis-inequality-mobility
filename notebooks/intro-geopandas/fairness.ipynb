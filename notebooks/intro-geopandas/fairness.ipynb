{
 "cells": [
  {
   "cell_type": "code",
   "execution_count": 1,
   "id": "plastic-cemetery",
   "metadata": {},
   "outputs": [],
   "source": [
    "# here we define a function that we can call to execute our simulation under\n",
    "# a variety of different alternative scenarios\n",
    "import scipy as sp\n",
    "import numpy as np\n",
    "import matplotlib.pyplot as pl\n",
    "import pandas as pd\n",
    "import shap\n",
    "%config InlineBackend.figure_format = 'retina'\n",
    "def run_credit_experiment(N, job_history_sex_impact=0, reported_income_sex_impact=0, income_sex_impact=0,\n",
    "                          late_payments_sex_impact=0, default_rate_sex_impact=0,\n",
    "                          include_brandx_purchase_score=False, include_sex=False):\n",
    "    np.random.seed(0)\n",
    "    sex = np.random.randint(0, 2, N) == 1 # randomly half men and half women\n",
    "\n",
    "    # four hypothetical causal factors influence customer quality\n",
    "    # they are all scaled to the same units between 0-1\n",
    "    income_stability = np.random.rand(N)\n",
    "    income_amount = np.random.rand(N)\n",
    "    if income_sex_impact > 0:\n",
    "        income_amount -= income_sex_impact/90000 * sex * np.random.rand(N)\n",
    "        income_amount -= income_amount.min()\n",
    "        income_amount /= income_amount.max()\n",
    "    spending_restraint = np.random.rand(N)\n",
    "    consistency = np.random.rand(N)\n",
    "\n",
    "    # intuitively this product says that high customer quality comes from simultaneously\n",
    "    # being strong in all factors\n",
    "    customer_quality = income_stability * income_amount * spending_restraint * consistency\n",
    "\n",
    "    # job history is a random function of the underlying income stability feature\n",
    "    job_history = np.maximum(\n",
    "        10 * income_stability + 2 * np.random.rand(N) - job_history_sex_impact * sex * np.random.rand(N)\n",
    "    , 0)\n",
    "\n",
    "    # reported income is a random function of the underlying income amount feature\n",
    "    reported_income =  np.maximum(\n",
    "        10000 + 90000*income_amount + np.random.randn(N) * 10000 - \\\n",
    "        reported_income_sex_impact * sex * np.random.rand(N)\n",
    "    , 0)\n",
    "\n",
    "    # credit inquiries is a random function of the underlying spending restraint and income amount features\n",
    "    credit_inquiries = np.round(6 * np.maximum(-spending_restraint + income_amount, 0)) + \\\n",
    "                       np.round(np.random.rand(N) > 0.1)\n",
    "\n",
    "    # credit inquiries is a random function of the underlying consistency and income stability features\n",
    "    late_payments = np.maximum(\n",
    "        np.round(3 * np.maximum((1-consistency) + 0.2 * (1-income_stability), 0)) + \\\n",
    "        np.round(np.random.rand(N) > 0.1) - np.round(late_payments_sex_impact * sex * np.random.rand(N))\n",
    "    , 0)\n",
    "\n",
    "    # bundle everything into a data frame and define the labels based on the default rate and customer quality\n",
    "    X = pd.DataFrame({\n",
    "        \"Job history\": job_history,\n",
    "        \"Reported income\": reported_income,\n",
    "        \"Credit inquiries\": credit_inquiries,\n",
    "        \"Late payments\": late_payments\n",
    "    })\n",
    "    default_rate = 0.40 + sex * default_rate_sex_impact\n",
    "    y = customer_quality < np.percentile(customer_quality, default_rate * 100)\n",
    "\n",
    "    if include_brandx_purchase_score:\n",
    "        brandx_purchase_score = sex + 0.8 * np.random.randn(N)\n",
    "        X[\"Brand X purchase score\"] = brandx_purchase_score\n",
    "\n",
    "    if include_sex:\n",
    "        X[\"Sex\"] = sex + 0\n",
    "\n",
    "    # build model\n",
    "    import xgboost\n",
    "    model = xgboost.XGBClassifier(max_depth=1, n_estimators=500, subsample=0.5, learning_rate=0.05)\n",
    "    model.fit(X, y)\n",
    "\n",
    "    # build explanation\n",
    "    import shap\n",
    "    explainer = shap.TreeExplainer(model, shap.sample(X, 100))\n",
    "    shap_values = explainer.shap_values(X)\n",
    "\n",
    "    return shap_values, sex, X, explainer.expected_value"
   ]
  },
  {
   "cell_type": "code",
   "execution_count": 2,
   "id": "first-solomon",
   "metadata": {},
   "outputs": [
    {
     "name": "stderr",
     "output_type": "stream",
     "text": [
      "The use of label encoder in XGBClassifier is deprecated and will be removed in a future release. To remove this warning, do the following: 1) Pass option use_label_encoder=False when constructing XGBClassifier object; and 2) Encode your labels (y) as integers starting with 0, i.e. 0, 1, 2, ..., [num_class - 1].\n"
     ]
    },
    {
     "name": "stdout",
     "output_type": "stream",
     "text": [
      "[21:54:52] WARNING: ../src/learner.cc:1095: Starting in XGBoost 1.3.0, the default evaluation metric used with the objective 'binary:logistic' was changed from 'error' to 'logloss'. Explicitly set eval_metric if you'd like to restore the old behavior.\n"
     ]
    },
    {
     "name": "stderr",
     "output_type": "stream",
     "text": [
      " 98%|===================| 9828/10000 [00:19<00:00]        FixedFormatter should only be used together with FixedLocator\n"
     ]
    },
    {
     "data": {
      "image/png": "[encoded data removed]",
      "text/plain": [
       "<Figure size 460.8x79.2 with 1 Axes>"
      ]
     },
     "metadata": {
      "image/png": {
       "height": 123,
       "width": 393
      },
      "needs_background": "light"
     },
     "output_type": "display_data"
    }
   ],
   "source": [
    "N = 10000\n",
    "shap_values_A, sex_A, X_A, ev_A = run_credit_experiment(N)\n",
    "model_outputs_A = ev_A + shap_values_A.sum(1)\n",
    "glabel = \"Demographic parity difference\\nof model output for women vs. men\"\n",
    "xmin = -0.8\n",
    "xmax = 0.8\n",
    "shap.group_difference_plot(shap_values_A.sum(1), sex_A, xmin=xmin, xmax=xmax, xlabel=glabel)"
   ]
  },
  {
   "cell_type": "code",
   "execution_count": 7,
   "id": "affecting-speech",
   "metadata": {},
   "outputs": [
    {
     "data": {
      "text/plain": [
       "-0.8071553367163142"
      ]
     },
     "execution_count": 7,
     "metadata": {},
     "output_type": "execute_result"
    }
   ],
   "source": [
    "ev_A"
   ]
  },
  {
   "cell_type": "code",
   "execution_count": 10,
   "id": "tested-huntington",
   "metadata": {},
   "outputs": [
    {
     "data": {
      "text/plain": [
       "array([-0.83746374,  1.98715054,  3.44526226, ...,  0.68594236,\n",
       "       -0.76077857,  5.34634578])"
      ]
     },
     "execution_count": 10,
     "metadata": {},
     "output_type": "execute_result"
    }
   ],
   "source": [
    "shap_values_A.sum(1)"
   ]
  },
  {
   "cell_type": "code",
   "execution_count": 13,
   "id": "competent-lawsuit",
   "metadata": {},
   "outputs": [
    {
     "data": {
      "text/plain": [
       "array([0, 1, 1, ..., 1, 0, 1])"
      ]
     },
     "execution_count": 13,
     "metadata": {},
     "output_type": "execute_result"
    }
   ],
   "source": [
    "np.random.randint(0, 2, N) "
   ]
  },
  {
   "cell_type": "code",
   "execution_count": 15,
   "id": "equal-marking",
   "metadata": {},
   "outputs": [
    {
     "data": {
      "text/plain": [
       "array([0.51908475, 0.63874166, 0.17990039, ..., 0.44612969, 0.98057075,\n",
       "       0.35506848])"
      ]
     },
     "execution_count": 15,
     "metadata": {},
     "output_type": "execute_result"
    }
   ],
   "source": [
    "np.random.rand(N)"
   ]
  },
  {
   "cell_type": "code",
   "execution_count": null,
   "id": "owned-terrain",
   "metadata": {},
   "outputs": [],
   "source": []
  }
 ],
 "metadata": {
  "kernelspec": {
   "display_name": "Python 3",
   "language": "python",
   "name": "python3"
  },
  "language_info": {
   "codemirror_mode": {
    "name": "ipython",
    "version": 3
   },
   "file_extension": ".py",
   "mimetype": "text/x-python",
   "name": "python",
   "nbconvert_exporter": "python",
   "pygments_lexer": "ipython3",
   "version": "3.8.5"
  }
 },
 "nbformat": 4,
 "nbformat_minor": 5
}
