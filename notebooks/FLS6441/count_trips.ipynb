{
 "cells": [
  {
   "cell_type": "code",
   "execution_count": 1,
   "id": "traditional-theta",
   "metadata": {},
   "outputs": [],
   "source": [
    "import datetime\n",
    "\n",
    "import geopandas as gpd\n",
    "import pandas as pd\n",
    "import yaml\n",
    "import statsmodels.api as sm\n",
    "import seaborn as sns\n",
    "from matplotlib import pyplot as plt"
   ]
  },
  {
   "cell_type": "code",
   "execution_count": 2,
   "id": "exact-actor",
   "metadata": {},
   "outputs": [],
   "source": [
    "PATH_PROJECT = \"/home/yoshraf/projects/mestrado/\"\n",
    "\n",
    "pd.options.display.max_columns = None\n",
    "\n",
    "df07 = pd.read_parquet(f\"{PATH_PROJECT}data/processed/dataset07.parquet\")\n",
    "df17 = pd.read_parquet(f\"{PATH_PROJECT}data/processed/dataset17.parquet\")"
   ]
  },
  {
   "cell_type": "code",
   "execution_count": 3,
   "id": "third-assurance",
   "metadata": {},
   "outputs": [],
   "source": [
    "def subway_rate(df, od07=False):\n",
    "    if od07:\n",
    "        df = df[df[\"loc_domicilio_dist_metro\"] >= 1000]\n",
    "        df[\"loc_domicilio_dist_metro\"] = df[\"loc_domicilio_dist_metro17\"].values\n",
    "    df = df[COLS]\n",
    "    # Dropnan (viagens não realizadas)\n",
    "    df = df.dropna()\n",
    "    # Retira pessoas que ja moravam perto do metrô\n",
    "    # Map de metro para\n",
    "    df[LABEL] = df[LABEL].apply(lambda x: 1 if x == \"Metrô\" else 0)\n",
    "\n",
    "    # Group by person\n",
    "    df_mean = pd.DataFrame(df.groupby(IDX)[LABEL].mean())\n",
    "    df_mean.columns = [\"Taxa de Metrô\"]\n",
    "    df2 = df.merge(df_mean, on=IDX)\n",
    "    df2 = df2.drop(columns=[LABEL]).drop_duplicates()\n",
    "    return df2"
   ]
  },
  {
   "cell_type": "code",
   "execution_count": 4,
   "id": "generic-gauge",
   "metadata": {},
   "outputs": [],
   "source": [
    "def how_far(df, od07=False):\n",
    "    if od07:\n",
    "        df = df[df[\"loc_domicilio_dist_metro\"] >= 1000]\n",
    "        df[\"loc_domicilio_dist_metro\"] = df[\"loc_domicilio_dist_metro17\"].values\n",
    "    df = df[COLS]\n",
    "    # Dropnan (viagens não realizadas)\n",
    "    df = df[df[LABEL] != 0]\n",
    "    df = df.dropna()\n",
    "    # Group by person\n",
    "    df_sum = pd.DataFrame(df.groupby(IDX)[LABEL].sum())\n",
    "    df_sum.columns = [\"sum_dist_od\"]\n",
    "    df2 = df.merge(df_sum, on=IDX)\n",
    "    df2 = df2.drop(columns=[LABEL]).drop_duplicates()\n",
    "    return df2"
   ]
  },
  {
   "cell_type": "code",
   "execution_count": 5,
   "id": "dated-kennedy",
   "metadata": {},
   "outputs": [],
   "source": [
    "def count_trip(df, od07=False):\n",
    "    if od07:\n",
    "        df = df[df[\"loc_domicilio_dist_metro\"] >= 1000]\n",
    "        df[\"loc_domicilio_dist_metro\"] = df[\"loc_domicilio_dist_metro17\"].values\n",
    "    df = df[COLS]\n",
    "    # Dropnan (viagens não realizadas)\n",
    "    df = df[df[LABEL] != 0]\n",
    "    df = df.dropna()\n",
    "    # Group by person\n",
    "    df = df.drop_duplicates()\n",
    "#     df_mean = pd.DataFrame(df.groupby(IDX)[LABEL].mean())\n",
    "#     df_sum.columns = [\"sum_dist_od\"]\n",
    "#     df2 = df.merge(df_sum, on=IDX)\n",
    "#     df2 = df2.drop(columns=[LABEL]).drop_duplicates()\n",
    "    return df"
   ]
  },
  {
   "cell_type": "code",
   "execution_count": 8,
   "id": "fifteen-cement",
   "metadata": {},
   "outputs": [],
   "source": [
    "IDX = [\n",
    "    \"Identifica Pessoa\"\n",
    "]\n",
    "\n",
    "COLS = [\n",
    "    \"Identifica Pessoa\",\n",
    "    \"Idade\",\n",
    "    \"Gênero\",\n",
    "    \"per Quantidade Automóvel\",\n",
    "    \"per Renda Familiar Mensal\",\n",
    "    \"loc_domicilio_dist_metro\",\n",
    "    \"Total de Viagens internas\"\n",
    "]\n",
    "\n",
    "LABEL = \"Total de Viagens internas\"\n",
    "\n",
    "cols_rename = {\n",
    "    \"Identifica pessoa\": \"Identifica Pessoa\",\n",
    "    \"per Renda familiar mensal\": \"per Renda Familiar Mensal\",\n",
    "    \"per Quantidade de automóveis\": \"per Quantidade Automóvel\",\n",
    "    \"Total de viagens da pessoa\": \"Total de Viagens internas\"\n",
    "}\n",
    "df17.rename(columns = cols_rename, inplace=True)"
   ]
  },
  {
   "cell_type": "code",
   "execution_count": 18,
   "id": "directed-medicare",
   "metadata": {},
   "outputs": [
    {
     "name": "stderr",
     "output_type": "stream",
     "text": [
      "<ipython-input-5-53dd4772c45f>:4: SettingWithCopyWarning: \n",
      "A value is trying to be set on a copy of a slice from a DataFrame.\n",
      "Try using .loc[row_indexer,col_indexer] = value instead\n",
      "\n",
      "See the caveats in the documentation: https://pandas.pydata.org/pandas-docs/stable/user_guide/indexing.html#returning-a-view-versus-a-copy\n",
      "  df[\"loc_domicilio_dist_metro\"] = df[\"loc_domicilio_dist_metro17\"].values\n"
     ]
    }
   ],
   "source": [
    "df07_far = count_trip(df07, od07 = True)\n",
    "df17_far = count_trip(df17)"
   ]
  },
  {
   "cell_type": "code",
   "execution_count": 19,
   "id": "special-accent",
   "metadata": {},
   "outputs": [],
   "source": [
    "df07_far[\"OD17\"] = 0\n",
    "df17_far[\"OD17\"] = 1"
   ]
  },
  {
   "cell_type": "code",
   "execution_count": 20,
   "id": "abstract-scout",
   "metadata": {},
   "outputs": [],
   "source": [
    "dataset = pd.concat([df07_far, df17_far])"
   ]
  },
  {
   "cell_type": "code",
   "execution_count": 21,
   "id": "provincial-exclusion",
   "metadata": {},
   "outputs": [],
   "source": [
    "dataset[\"T_600\"] = dataset[\"loc_domicilio_dist_metro\"].apply(lambda x: 1 if x < 600 else 0)\n",
    "dataset[\"T_800\"] = dataset[\"loc_domicilio_dist_metro\"].apply(lambda x: 1 if x < 800 else 0)\n",
    "dataset[\"T_1000\"] = dataset[\"loc_domicilio_dist_metro\"].apply(lambda x: 1 if x < 1000 else 0)"
   ]
  },
  {
   "cell_type": "code",
   "execution_count": 22,
   "id": "civilian-detective",
   "metadata": {},
   "outputs": [],
   "source": [
    "dataset = dataset.set_index(IDX)\n",
    "dataset = pd.get_dummies(dataset, drop_first=True)"
   ]
  },
  {
   "cell_type": "code",
   "execution_count": 23,
   "id": "prostate-approval",
   "metadata": {},
   "outputs": [],
   "source": [
    "T = \"T_600\"\n",
    "COLS_MODELING = [\"Idade\", \"per Quantidade Automóvel\", \"per Renda Familiar Mensal\", \"OD17\", T, \"Gênero_Masculino\"]\n",
    "df_model = dataset[COLS_MODELING].copy()\n",
    "df_model[\"OD17:T\"] = df_model[\"OD17\"].values * df_model[T].values\n",
    "df_model = sm.add_constant(df_model)"
   ]
  },
  {
   "cell_type": "code",
   "execution_count": 26,
   "id": "liquid-seattle",
   "metadata": {},
   "outputs": [
    {
     "name": "stdout",
     "output_type": "stream",
     "text": [
      "                            OLS Regression Results                            \n",
      "==============================================================================\n",
      "Dep. Variable:                      y   R-squared:                       0.015\n",
      "Model:                            OLS   Adj. R-squared:                  0.014\n",
      "Method:                 Least Squares   F-statistic:                     16.33\n",
      "Date:                Tue, 13 Jul 2021   Prob (F-statistic):           1.72e-21\n",
      "Time:                        22:15:54   Log-Likelihood:                -12629.\n",
      "No. Observations:                7373   AIC:                         2.527e+04\n",
      "Df Residuals:                    7365   BIC:                         2.533e+04\n",
      "Df Model:                           7                                         \n",
      "Covariance Type:            nonrobust                                         \n",
      "=============================================================================================\n",
      "                                coef    std err          t      P>|t|      [0.025      0.975]\n",
      "---------------------------------------------------------------------------------------------\n",
      "const                         2.5459      0.041     62.196      0.000       2.466       2.626\n",
      "Idade                         0.0028      0.001      3.484      0.000       0.001       0.004\n",
      "per Quantidade Automóvel      0.1397      0.058      2.392      0.017       0.025       0.254\n",
      "per Renda Familiar Mensal  4.312e-05   9.61e-06      4.487      0.000    2.43e-05     6.2e-05\n",
      "OD17                         -0.1569      0.036     -4.317      0.000      -0.228      -0.086\n",
      "T_600                         0.1342      0.060      2.222      0.026       0.016       0.253\n",
      "Gênero_Masculino              0.0183      0.031      0.585      0.559      -0.043       0.080\n",
      "OD17:T                       -0.0420      0.083     -0.507      0.612      -0.204       0.120\n",
      "==============================================================================\n",
      "Omnibus:                     3567.639   Durbin-Watson:                   1.671\n",
      "Prob(Omnibus):                  0.000   Jarque-Bera (JB):            22536.132\n",
      "Skew:                           2.267   Prob(JB):                         0.00\n",
      "Kurtosis:                      10.266   Cond. No.                     1.85e+04\n",
      "==============================================================================\n",
      "\n",
      "Notes:\n",
      "[1] Standard Errors assume that the covariance matrix of the errors is correctly specified.\n",
      "[2] The condition number is large, 1.85e+04. This might indicate that there are\n",
      "strong multicollinearity or other numerical problems.\n"
     ]
    }
   ],
   "source": [
    "res = sm.OLS(dataset[LABEL].values, df_model).fit()\n",
    "print(res.summary())"
   ]
  },
  {
   "cell_type": "code",
   "execution_count": 27,
   "id": "northern-removal",
   "metadata": {},
   "outputs": [],
   "source": [
    "df_plot = pd.DataFrame(dataset.groupby([\"OD17\", T])[LABEL].mean()).reset_index()"
   ]
  },
  {
   "cell_type": "code",
   "execution_count": 28,
   "id": "minimal-public",
   "metadata": {},
   "outputs": [
    {
     "data": {
      "text/html": [
       "<div>\n",
       "<style scoped>\n",
       "    .dataframe tbody tr th:only-of-type {\n",
       "        vertical-align: middle;\n",
       "    }\n",
       "\n",
       "    .dataframe tbody tr th {\n",
       "        vertical-align: top;\n",
       "    }\n",
       "\n",
       "    .dataframe thead th {\n",
       "        text-align: right;\n",
       "    }\n",
       "</style>\n",
       "<table border=\"1\" class=\"dataframe\">\n",
       "  <thead>\n",
       "    <tr style=\"text-align: right;\">\n",
       "      <th></th>\n",
       "      <th>OD17</th>\n",
       "      <th>T_600</th>\n",
       "      <th>Total de Viagens internas</th>\n",
       "    </tr>\n",
       "  </thead>\n",
       "  <tbody>\n",
       "    <tr>\n",
       "      <th>0</th>\n",
       "      <td>0</td>\n",
       "      <td>0</td>\n",
       "      <td>2.767236</td>\n",
       "    </tr>\n",
       "    <tr>\n",
       "      <th>1</th>\n",
       "      <td>0</td>\n",
       "      <td>1</td>\n",
       "      <td>2.939863</td>\n",
       "    </tr>\n",
       "    <tr>\n",
       "      <th>2</th>\n",
       "      <td>1</td>\n",
       "      <td>0</td>\n",
       "      <td>2.670641</td>\n",
       "    </tr>\n",
       "    <tr>\n",
       "      <th>3</th>\n",
       "      <td>1</td>\n",
       "      <td>1</td>\n",
       "      <td>2.775596</td>\n",
       "    </tr>\n",
       "  </tbody>\n",
       "</table>\n",
       "</div>"
      ],
      "text/plain": [
       "   OD17  T_600  Total de Viagens internas\n",
       "0     0      0                   2.767236\n",
       "1     0      1                   2.939863\n",
       "2     1      0                   2.670641\n",
       "3     1      1                   2.775596"
      ]
     },
     "execution_count": 28,
     "metadata": {},
     "output_type": "execute_result"
    }
   ],
   "source": [
    "df_plot"
   ]
  },
  {
   "cell_type": "code",
   "execution_count": 30,
   "id": "listed-prototype",
   "metadata": {},
   "outputs": [
    {
     "data": {
      "text/plain": [
       "<AxesSubplot:xlabel='OD17', ylabel='Total de Viagens internas'>"
      ]
     },
     "execution_count": 30,
     "metadata": {},
     "output_type": "execute_result"
    },
    {
     "data": {
      "image/png": "[encoded data removed]",
      "text/plain": [
       "<Figure size 1152x648 with 1 Axes>"
      ]
     },
     "metadata": {},
     "output_type": "display_data"
    }
   ],
   "source": [
    "sns.set_theme(style=\"darkgrid\")\n",
    "fig, ax = plt.subplots(figsize=(16, 9))\n",
    "sns.lineplot(data=df_plot, x=\"OD17\", y=LABEL, hue=T)"
   ]
  },
  {
   "cell_type": "code",
   "execution_count": null,
   "id": "informational-module",
   "metadata": {},
   "outputs": [],
   "source": []
  },
  {
   "cell_type": "code",
   "execution_count": 142,
   "id": "adjusted-environment",
   "metadata": {},
   "outputs": [
    {
     "ename": "NameError",
     "evalue": "name 'df' is not defined",
     "output_type": "error",
     "traceback": [
      "\u001b[0;31m---------------------------------------------------------------------------\u001b[0m",
      "\u001b[0;31mNameError\u001b[0m                                 Traceback (most recent call last)",
      "\u001b[0;32m<ipython-input-142-06c81711174e>\u001b[0m in \u001b[0;36m<module>\u001b[0;34m\u001b[0m\n\u001b[1;32m     12\u001b[0m \u001b[0;34m\u001b[0m\u001b[0m\n\u001b[1;32m     13\u001b[0m \u001b[0;31m# Filter, select and Drop Values\u001b[0m\u001b[0;34m\u001b[0m\u001b[0;34m\u001b[0m\u001b[0;34m\u001b[0m\u001b[0m\n\u001b[0;32m---> 14\u001b[0;31m \u001b[0mdataset\u001b[0m \u001b[0;34m=\u001b[0m \u001b[0mdf\u001b[0m\u001b[0;34m[\u001b[0m\u001b[0mcols\u001b[0m \u001b[0;34m+\u001b[0m \u001b[0;34m[\u001b[0m\u001b[0mlabel\u001b[0m\u001b[0;34m]\u001b[0m\u001b[0;34m]\u001b[0m\u001b[0;34m.\u001b[0m\u001b[0mdrop_duplicates\u001b[0m\u001b[0;34m(\u001b[0m\u001b[0;34m)\u001b[0m\u001b[0;34m\u001b[0m\u001b[0;34m\u001b[0m\u001b[0m\n\u001b[0m\u001b[1;32m     15\u001b[0m \u001b[0;34m\u001b[0m\u001b[0m\n\u001b[1;32m     16\u001b[0m \u001b[0;31m# Filling missing valuies with mean\u001b[0m\u001b[0;34m\u001b[0m\u001b[0;34m\u001b[0m\u001b[0;34m\u001b[0m\u001b[0m\n",
      "\u001b[0;31mNameError\u001b[0m: name 'df' is not defined"
     ]
    }
   ],
   "source": [
    "# Read config\n",
    "with open(f\"{PATH_PROJECT}{PATH_R_CONF}{YML}\", encoding=\"utf8\") as f:\n",
    "    config = yaml.load(f, Loader=yaml.FullLoader, )\n",
    "\n",
    "# Main variables\n",
    "cols = config[\"DATAPREP\"][\"FLS6641-DISCRETE-CHOICE\"][\"SELECT_COLUMNS\"]\n",
    "idx = config[\"DATAPREP\"][\"FLS6641-DISCRETE-CHOICE\"][\"IDX\"]\n",
    "mapping = config[\"DATAPREP\"][\"FLS6641-DISCRETE-CHOICE\"][\"ENCODING\"]\n",
    "cat = config[\"DATAPREP\"][\"FLS6641-DISCRETE-CHOICE\"][\"CATEGORICAL\"]\n",
    "label = config[\"DATAPREP\"][\"FLS6641-DISCRETE-CHOICE\"][\"LABEL\"][\"COLUMN\"]\n",
    "label_values = config[\"DATAPREP\"][\"FLS6641-DISCRETE-CHOICE\"][\"LABEL\"]\n",
    "\n",
    "# Filter, select and Drop Values\n",
    "dataset = df[cols + [label]].drop_duplicates()\n",
    "\n",
    "# Filling missing valuies with mean\n",
    "dataset.fillna(dataset.mean(), inplace=True)\n",
    "# Mapping\n",
    "for k, v in mapping.items():\n",
    "    dataset[k] = dataset[k].map(v)\n",
    "# Main Mode\n",
    "dataset = dataset[~ dataset[label].isna()]\n",
    "dataset[label] = dataset[label].apply(lambda x: 1 if x == \"Metrô\" else 0)\n",
    "# Group by person\n",
    "df_mean = pd.DataFrame(dataset.groupby([\"Identifica pessoa\"])[label].mean())\n",
    "df_mean.columns = [\"Taxa de Metrô\"]\n",
    "dataset2 = dataset.merge(df_mean, on=[\"Identifica pessoa\"])\n",
    "dataset2 = dataset2.drop(columns=[label]).drop_duplicates()\n",
    "# Convert to Datetime\n",
    "dataset2[\"Data da entrevista\"] = pd.to_datetime(\n",
    "    dataset2[\"Data da entrevista\"], format=\"%d%m%Y\").values\n",
    "# GeoJoin\n",
    "gdf = gpd.GeoDataFrame(dataset2,\n",
    "                       geometry=gpd.points_from_xy(dataset2[\"Coordenada X domicílio\"],\n",
    "                                                   dataset2[\"Coordenada Y domicílio\"]))\n",
    "gdf.head(5)\n",
    "gdf_neigh = gpd.read_file(\n",
    "    \"/home/yoshraf/projects/mestrado/data/gis/od2017/Distritos_2017_region.shp\")\n",
    "dist = ['Campo Belo', \"Santo Amaro\", \"Itaim Bibi\"]\n",
    "gdf_neigh = gdf_neigh[gdf_neigh[\"NomeDistri\"].isin(dist)]\n",
    "gdf_f = gpd.sjoin(gdf, gdf_neigh, how=\"inner\", op='intersects')\n",
    "\n",
    "# --------------------------\n",
    "# Plot to check our filters\n",
    "gdf_metro = gpd.read_file(\n",
    "    f\"{PATH_PROJECT}data/gis/metro/SAD69-96_SHP_estacaometro_point.shp\")\n",
    "lst_metro_in = [\n",
    "    \"ALTO DA BOA VISTA\",\n",
    "    \"BORBA GATO\",\n",
    "    \"BROOKLIN\"\n",
    "]\n",
    "gdf_metro_f = gdf_metro[gdf_metro[\"emt_nome\"].isin(lst_metro_in)]\n",
    "gdf_f[f\"dist_metro_key\"] = gdf_f[\"geometry\"].apply(\n",
    "    lambda x: gdf_metro_f.distance(x)).min(1)\n",
    "# Create dist lower than 600, 800, 1000\n",
    "gdf_f[\"dist_metro_menor_600\"] = gdf_f[\"dist_metro_key\"].apply(lambda x: 1 if x < 600 else 0)\n",
    "gdf_f[\"dist_metro_menor_800\"] = gdf_f[\"dist_metro_key\"].apply(lambda x: 1 if x < 800 else 0)\n",
    "gdf_f[\"dist_metro_menor_1000\"] = gdf_f[\"dist_metro_key\"].apply(lambda x: 1 if x < 1000 else 0)\n",
    "gdf_f[\"dist_metro_menor_1500\"] = gdf_f[\"dist_metro_key\"].apply(lambda x: 1 if x < 1500 else 0)\n",
    "ax = gdf_metro_f.plot(color='red')\n",
    "gdf_f.plot(\n",
    "    ax = ax,\n",
    "    column=\"dist_metro_menor_1500\",\n",
    "    alpha = .3)\n",
    "\n",
    "# Time\n",
    "gdf_f[gdf_f[\"Data da entrevista\"] < datetime.datetime(2017, 11, 27)].shape\n",
    "gdf_f[gdf_f[\"Data da entrevista\"] >= datetime.datetime(2017, 11, 27)].shape\n",
    "# Treatment\n",
    "gdf_f[(gdf_f[\"dist_metro_menor_1000\"] == 1) &\n",
    "      (gdf_f[\"Data da entrevista\"] < datetime.datetime(2017, 11, 27))].shape\n",
    "gdf_f.shape\n",
    "\n",
    "Tr_b = gdf_f[(gdf_f[\"dist_metro_menor_1500\"] == 1) &\n",
    "      (gdf_f[\"Data da entrevista\"] < datetime.datetime(2017, 11, 27))]\n",
    "Tr_a = gdf_f[(gdf_f[\"dist_metro_menor_1500\"] == 1) &\n",
    "      (gdf_f[\"Data da entrevista\"] > datetime.datetime(2017, 11, 27))]\n",
    "Cr_b = gdf_f[(gdf_f[\"dist_metro_menor_1500\"] == 0) &\n",
    "      (gdf_f[\"Data da entrevista\"] < datetime.datetime(2017, 11, 27))]\n",
    "Cr_a = gdf_f[(gdf_f[\"dist_metro_menor_1500\"] == 0) &\n",
    "      (gdf_f[\"Data da entrevista\"] > datetime.datetime(2017, 11, 27))]\n",
    "print(Tr_b[\"Taxa de Metrô\"].mean())\n",
    "print(Tr_a[\"Taxa de Metrô\"].mean())\n",
    "print(Cr_b[\"Taxa de Metrô\"].mean())\n",
    "print(Cr_a[\"Taxa de Metrô\"].mean())\n",
    "Tr_b.shape\n",
    "\n",
    "# OneHotCoding\n",
    "enc = OneHotEncoder(handle_unknown=\"error\", drop=\"if_binary\")\n",
    "X_cat = pd.DataFrame(enc.fit_transform(\n",
    "    dataset[cat]).toarray(), columns=enc.get_feature_names(cat))\n",
    "# All Numeric types\n",
    "numerics_dtypes = ['int16', 'int32', 'int64', 'float16', 'float32', 'float64']\n",
    "X = pd.concat([dataset.select_dtypes(\n",
    "    include=numerics_dtypes).reset_index(), X_cat], axis=1).set_index(idx)\n",
    "# Split into X and y\n",
    "y = dataset[[label]]\n",
    "# Split into Train and Test\n",
    "X_train, X_test, y_train, y_test = train_test_split(\n",
    "    X, y, test_size=0.30, random_state=42)\n",
    "\n",
    "# Save datasets\n",
    "X_train.to_parquet(f\"{PATH_PROJECT}data/discrete_choice/X_train.parquet\")\n",
    "X_test.to_parquet(f\"{PATH_PROJECT}data/discrete_choice/X_test.parquet\")\n",
    "y_train.to_parquet(f\"{PATH_PROJECT}data/discrete_choice/y_train.parquet\")\n",
    "y_test.to_parquet(f\"{PATH_PROJECT}data/discrete_choice/y_test.parquet\")\n",
    "print(\"Everything is OK!\")"
   ]
  },
  {
   "cell_type": "code",
   "execution_count": null,
   "id": "loose-frost",
   "metadata": {},
   "outputs": [],
   "source": []
  },
  {
   "cell_type": "code",
   "execution_count": null,
   "id": "editorial-founder",
   "metadata": {},
   "outputs": [],
   "source": []
  }
 ],
 "metadata": {
  "kernelspec": {
   "display_name": "Python 3",
   "language": "python",
   "name": "python3"
  },
  "language_info": {
   "codemirror_mode": {
    "name": "ipython",
    "version": 3
   },
   "file_extension": ".py",
   "mimetype": "text/x-python",
   "name": "python",
   "nbconvert_exporter": "python",
   "pygments_lexer": "ipython3",
   "version": "3.8.5"
  }
 },
 "nbformat": 4,
 "nbformat_minor": 5
}
